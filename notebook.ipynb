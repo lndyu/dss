{
  "cells": [
    {
      "cell_type": "code",
      "metadata": {
        "tags": [],
        "cell_id": "00001-5f6c66d8-55e9-42d8-8dd0-03bb2b337fd4",
        "deepnote_to_be_reexecuted": false,
        "source_hash": "f791f20e",
        "execution_millis": 1685,
        "execution_start": 1619481208864,
        "deepnote_cell_type": "code"
      },
      "source": "import pandas as pd\nfrom sklearn.linear_model import LinearRegression\nfrom sklearn.model_selection import train_test_split\nimport matplotlib.pyplot as plt\nimport numpy as np\nimport yfinance as yf",
      "outputs": [],
      "execution_count": null
    },
    {
      "cell_type": "code",
      "metadata": {
        "tags": [],
        "cell_id": "00002-934eadea-81fb-43d9-8c88-c4dcc6fa42f5",
        "deepnote_to_be_reexecuted": false,
        "source_hash": "90e8091c",
        "execution_millis": 11,
        "execution_start": 1619481210552,
        "deepnote_cell_type": "code"
      },
      "source": "from pandas_datareader import data as pdr",
      "outputs": [],
      "execution_count": null
    },
    {
      "cell_type": "code",
      "metadata": {
        "tags": [],
        "cell_id": "00003-22b46d1f-d3c7-42e0-bbcd-ce21ca243b51",
        "deepnote_to_be_reexecuted": false,
        "source_hash": "6f578455",
        "execution_millis": 3,
        "execution_start": 1619481210572,
        "deepnote_cell_type": "code"
      },
      "source": "#this initial table takes a while to run (around 3 min)\n\n#randomly selected 250 stocks from S&P 500\ntickers = ['MMM', 'ABBV', 'ACN', 'ADBE', 'AAP', 'AFL', 'APD', 'AKAM', 'ALB', 'ALXN', 'ALLE', 'LNT', 'GOOGL', 'MO', 'AMCR', 'AAL', 'AXP', 'AMT', 'AMP', 'AME', 'APH', 'ANSS', 'AON', 'APA', 'AMAT', 'ADM', 'AJG', 'T', 'ADSK', 'AZO', 'AVY', 'BLL', 'BK', 'BDX', 'BBY', 'BIIB', 'BA', 'BWA', 'BSX', 'AVGO', 'CHRW', 'CDNS', 'CPB', 'CAH', 'CCL', 'CTLT', 'CBOE', 'CDW', 'CNC', 'CERN', 'SCHW', 'CVX', 'CB', 'CI', 'CTAS', 'C', 'CTXS', 'CME', 'KO', 'CL', 'CMA', 'COP', 'STZ', 'CPRT', 'CCI', 'CMI', 'DHI', 'DRI', 'DE', 'XRAY', 'DXCM', 'DLR', 'DISCA', 'DISH', 'DLTR', 'DPZ', 'DUK', 'DD', 'EMN', 'EBAY', 'EIX', 'EA', 'ENPH', 'EOG', 'EQIX', 'ESS', 'ETSY', 'ES', 'EXC', 'EXPD', 'XOM', 'FB', 'FRT', 'FIS', 'FITB', 'FRC', 'FLT', 'FMC', 'FTNT', 'FBHS', 'FCX', 'GRMN', 'GNRC', 'GE', 'GM', 'GILD', 'GPN', 'GWW', 'HBI', 'HAS', 'PEAK', 'HSY', 'HPE', 'HFC', 'HD', 'HRL', 'HUM', 'HII', 'IDXX', 'ITW', 'INCY', 'INTC', 'IBM', 'IPG', 'INTU', 'IVZ', 'IQV', 'JKHY', 'JBHT', 'JNJ', 'JPM', 'KSU', 'KEY', 'KMB', 'KMI', 'KHC', 'LB', 'LH', 'LEG', 'LEN', 'LNC', 'LYV', 'LMT', 'LOW', 'LYB', 'MRO', 'MKTX', 'MMC', 'MAS', 'MKC', 'MCD', 'MDT', 'MET', 'MGM', 'MU', 'MAA', 'TAP', 'MPWR', 'MCO', 'MOS', 'MSCI', 'NTAP', 'NWL', 'NEM', 'NWS', 'NLSN', 'NI', 'NTRS', 'NLOK', 'NOV', 'NUE', 'NVR', 'ORLY', 'ODFL', 'OKE', 'PKG', 'PAYX', 'PYPL', 'PNR', 'PEP', 'PRGO', 'PM', 'PNW', 'PNC', 'PPG', 'PFG', 'PGR', 'PRU', 'PSA', 'PVH', 'PWR', 'DGX', 'RJF', 'O', 'REGN', 'RG', 'RHI', 'ROL', 'ROST', 'SPGI', 'SBAC', 'STX', 'SRE', 'SHW', 'SWKS', 'SO', 'SWK', 'STT', 'SYK', 'SYF', 'SYY', 'TROW', 'TPR', 'TEL', 'TFX', 'TSLA', 'TXT', 'TJX', 'TT', 'TRV', 'TFC', 'TYL', 'UDR', 'USB', 'UA', 'UAL', 'UPS', 'UHS', 'VLO', 'VTR', 'VRSK', 'VRTX', 'VIAC', 'V', 'VNO', 'WRB', 'WMT', 'DIS', 'WAT', 'WFC', 'WST', 'WU', 'WY', 'WMB', 'WYNN', 'XLNX', 'YUM', 'ZBH', 'ZTS']\n\ndef get_sp500_index(tickers):\n    return pdr.get_data_yahoo(tickers)\n",
      "outputs": [],
      "execution_count": null
    },
    {
      "cell_type": "code",
      "metadata": {
        "tags": [],
        "cell_id": "00005-469634ea-8d2d-42b6-96e1-3bb14073ed77",
        "deepnote_to_be_reexecuted": false,
        "source_hash": "b113d8e2",
        "execution_millis": 432,
        "execution_start": 1619481210578,
        "deepnote_cell_type": "code"
      },
      "source": "#cleaned table\ndef extract(data, attr):\n    attr_data = data[attr].reset_index()\n    attr_data = attr_data.melt(id_vars='Date').set_index(['Date', 'Symbols'])\n    attr_data = attr_data.rename(columns={'value': attr})\n    return attr_data\n\n# attr_datas = [extract(data, attr) for attr in data.columns.levels[0]]\n# data_by_symbol = attr_datas[0].join(attr_datas[1:])\n# data_by_symbol.to_csv('api_data.csv')\ndata_by_symbol = pd.read_csv('api_data.csv', index_col = 'Date', parse_dates = True)\ndata_by_symbol.head(20)",
      "outputs": [
        {
          "output_type": "execute_result",
          "execution_count": 4,
          "data": {
            "application/vnd.deepnote.dataframe.v2+json": {
              "row_count": 20,
              "column_count": 7,
              "columns": [
                {
                  "name": "Symbols",
                  "dtype": "object",
                  "stats": {
                    "unique_count": 1,
                    "nan_count": 0,
                    "categories": [
                      {
                        "name": "MMM",
                        "count": 20
                      }
                    ]
                  }
                },
                {
                  "name": "Adj Close",
                  "dtype": "float64",
                  "stats": {
                    "unique_count": 20,
                    "nan_count": 0,
                    "min": "143.46685791015625",
                    "max": "147.05223083496094",
                    "histogram": [
                      {
                        "bin_start": 143.46685791015625,
                        "bin_end": 143.8253952026367,
                        "count": 3
                      },
                      {
                        "bin_start": 143.8253952026367,
                        "bin_end": 144.18393249511718,
                        "count": 0
                      },
                      {
                        "bin_start": 144.18393249511718,
                        "bin_end": 144.54246978759767,
                        "count": 3
                      },
                      {
                        "bin_start": 144.54246978759767,
                        "bin_end": 144.90100708007813,
                        "count": 2
                      },
                      {
                        "bin_start": 144.90100708007813,
                        "bin_end": 145.2595443725586,
                        "count": 4
                      },
                      {
                        "bin_start": 145.2595443725586,
                        "bin_end": 145.61808166503906,
                        "count": 3
                      },
                      {
                        "bin_start": 145.61808166503906,
                        "bin_end": 145.97661895751952,
                        "count": 1
                      },
                      {
                        "bin_start": 145.97661895751952,
                        "bin_end": 146.33515625,
                        "count": 0
                      },
                      {
                        "bin_start": 146.33515625,
                        "bin_end": 146.69369354248047,
                        "count": 2
                      },
                      {
                        "bin_start": 146.69369354248047,
                        "bin_end": 147.05223083496094,
                        "count": 2
                      }
                    ]
                  }
                },
                {
                  "name": "Close",
                  "dtype": "float64",
                  "stats": {
                    "unique_count": 20,
                    "nan_count": 0,
                    "min": "165.00999450683594",
                    "max": "170.25999450683594",
                    "histogram": [
                      {
                        "bin_start": 165.00999450683594,
                        "bin_end": 165.53499450683594,
                        "count": 2
                      },
                      {
                        "bin_start": 165.53499450683594,
                        "bin_end": 166.05999450683595,
                        "count": 0
                      },
                      {
                        "bin_start": 166.05999450683595,
                        "bin_end": 166.58499450683593,
                        "count": 2
                      },
                      {
                        "bin_start": 166.58499450683593,
                        "bin_end": 167.10999450683593,
                        "count": 2
                      },
                      {
                        "bin_start": 167.10999450683593,
                        "bin_end": 167.63499450683594,
                        "count": 2
                      },
                      {
                        "bin_start": 167.63499450683594,
                        "bin_end": 168.15999450683594,
                        "count": 4
                      },
                      {
                        "bin_start": 168.15999450683594,
                        "bin_end": 168.68499450683595,
                        "count": 3
                      },
                      {
                        "bin_start": 168.68499450683595,
                        "bin_end": 169.20999450683593,
                        "count": 1
                      },
                      {
                        "bin_start": 169.20999450683593,
                        "bin_end": 169.73499450683593,
                        "count": 1
                      },
                      {
                        "bin_start": 169.73499450683593,
                        "bin_end": 170.25999450683594,
                        "count": 3
                      }
                    ]
                  }
                },
                {
                  "name": "High",
                  "dtype": "float64",
                  "stats": {
                    "unique_count": 19,
                    "nan_count": 0,
                    "min": "166.05999755859375",
                    "max": "171.27000427246094",
                    "histogram": [
                      {
                        "bin_start": 166.05999755859375,
                        "bin_end": 166.58099822998048,
                        "count": 3
                      },
                      {
                        "bin_start": 166.58099822998048,
                        "bin_end": 167.10199890136718,
                        "count": 0
                      },
                      {
                        "bin_start": 167.10199890136718,
                        "bin_end": 167.6229995727539,
                        "count": 0
                      },
                      {
                        "bin_start": 167.6229995727539,
                        "bin_end": 168.1440002441406,
                        "count": 5
                      },
                      {
                        "bin_start": 168.1440002441406,
                        "bin_end": 168.66500091552734,
                        "count": 3
                      },
                      {
                        "bin_start": 168.66500091552734,
                        "bin_end": 169.18600158691407,
                        "count": 3
                      },
                      {
                        "bin_start": 169.18600158691407,
                        "bin_end": 169.70700225830078,
                        "count": 0
                      },
                      {
                        "bin_start": 169.70700225830078,
                        "bin_end": 170.2280029296875,
                        "count": 2
                      },
                      {
                        "bin_start": 170.2280029296875,
                        "bin_end": 170.7490036010742,
                        "count": 3
                      },
                      {
                        "bin_start": 170.7490036010742,
                        "bin_end": 171.27000427246094,
                        "count": 1
                      }
                    ]
                  }
                },
                {
                  "name": "Low",
                  "dtype": "float64",
                  "stats": {
                    "unique_count": 20,
                    "nan_count": 0,
                    "min": "163.1699981689453",
                    "max": "169.57000732421875",
                    "histogram": [
                      {
                        "bin_start": 163.1699981689453,
                        "bin_end": 163.80999908447265,
                        "count": 1
                      },
                      {
                        "bin_start": 163.80999908447265,
                        "bin_end": 164.45,
                        "count": 0
                      },
                      {
                        "bin_start": 164.45,
                        "bin_end": 165.09000091552736,
                        "count": 3
                      },
                      {
                        "bin_start": 165.09000091552736,
                        "bin_end": 165.7300018310547,
                        "count": 0
                      },
                      {
                        "bin_start": 165.7300018310547,
                        "bin_end": 166.37000274658203,
                        "count": 4
                      },
                      {
                        "bin_start": 166.37000274658203,
                        "bin_end": 167.01000366210937,
                        "count": 4
                      },
                      {
                        "bin_start": 167.01000366210937,
                        "bin_end": 167.6500045776367,
                        "count": 2
                      },
                      {
                        "bin_start": 167.6500045776367,
                        "bin_end": 168.29000549316407,
                        "count": 2
                      },
                      {
                        "bin_start": 168.29000549316407,
                        "bin_end": 168.9300064086914,
                        "count": 2
                      },
                      {
                        "bin_start": 168.9300064086914,
                        "bin_end": 169.57000732421875,
                        "count": 2
                      }
                    ]
                  }
                },
                {
                  "name": "Open",
                  "dtype": "float64",
                  "stats": {
                    "unique_count": 20,
                    "nan_count": 0,
                    "min": "165.25",
                    "max": "170.1999969482422",
                    "histogram": [
                      {
                        "bin_start": 165.25,
                        "bin_end": 165.74499969482423,
                        "count": 3
                      },
                      {
                        "bin_start": 165.74499969482423,
                        "bin_end": 166.23999938964843,
                        "count": 0
                      },
                      {
                        "bin_start": 166.23999938964843,
                        "bin_end": 166.73499908447266,
                        "count": 2
                      },
                      {
                        "bin_start": 166.73499908447266,
                        "bin_end": 167.22999877929686,
                        "count": 3
                      },
                      {
                        "bin_start": 167.22999877929686,
                        "bin_end": 167.7249984741211,
                        "count": 4
                      },
                      {
                        "bin_start": 167.7249984741211,
                        "bin_end": 168.21999816894532,
                        "count": 1
                      },
                      {
                        "bin_start": 168.21999816894532,
                        "bin_end": 168.71499786376953,
                        "count": 2
                      },
                      {
                        "bin_start": 168.71499786376953,
                        "bin_end": 169.20999755859376,
                        "count": 0
                      },
                      {
                        "bin_start": 169.20999755859376,
                        "bin_end": 169.70499725341796,
                        "count": 2
                      },
                      {
                        "bin_start": 169.70499725341796,
                        "bin_end": 170.1999969482422,
                        "count": 3
                      }
                    ]
                  }
                },
                {
                  "name": "Volume",
                  "dtype": "float64",
                  "stats": {
                    "unique_count": 20,
                    "nan_count": 0,
                    "min": "1301300.0",
                    "max": "3192100.0",
                    "histogram": [
                      {
                        "bin_start": 1301300,
                        "bin_end": 1490380,
                        "count": 1
                      },
                      {
                        "bin_start": 1490380,
                        "bin_end": 1679460,
                        "count": 5
                      },
                      {
                        "bin_start": 1679460,
                        "bin_end": 1868540,
                        "count": 7
                      },
                      {
                        "bin_start": 1868540,
                        "bin_end": 2057620,
                        "count": 3
                      },
                      {
                        "bin_start": 2057620,
                        "bin_end": 2246700,
                        "count": 3
                      },
                      {
                        "bin_start": 2246700,
                        "bin_end": 2435780,
                        "count": 0
                      },
                      {
                        "bin_start": 2435780,
                        "bin_end": 2624860,
                        "count": 0
                      },
                      {
                        "bin_start": 2624860,
                        "bin_end": 2813940,
                        "count": 0
                      },
                      {
                        "bin_start": 2813940,
                        "bin_end": 3003020,
                        "count": 0
                      },
                      {
                        "bin_start": 3003020,
                        "bin_end": 3192100,
                        "count": 1
                      }
                    ]
                  }
                },
                {
                  "name": "_deepnote_index_column",
                  "dtype": "datetime64[ns]"
                }
              ],
              "rows_top": [
                {
                  "Symbols": "MMM",
                  "Adj Close": 143.52838134765625,
                  "Close": 166.17999267578125,
                  "High": 167.7899932861328,
                  "Low": 164.97000122070312,
                  "Open": 167.5,
                  "Volume": 3192100,
                  "_deepnote_index_column": "2016-04-26T00:00:00.000000"
                },
                {
                  "Symbols": "MMM",
                  "Adj Close": 144.8930206298828,
                  "Close": 167.75999450683594,
                  "High": 168.3800048828125,
                  "Low": 166.10000610351562,
                  "Open": 166.99000549316406,
                  "Volume": 2227700,
                  "_deepnote_index_column": "2016-04-27T00:00:00.000000"
                },
                {
                  "Symbols": "MMM",
                  "Adj Close": 144.2366485595703,
                  "Close": 167,
                  "High": 168.77000427246094,
                  "Low": 166.1999969482422,
                  "Open": 166.85000610351562,
                  "Volume": 1654700,
                  "_deepnote_index_column": "2016-04-28T00:00:00.000000"
                },
                {
                  "Symbols": "MMM",
                  "Adj Close": 144.56483459472656,
                  "Close": 167.3800048828125,
                  "High": 167.77999877929688,
                  "Low": 166.5,
                  "Open": 166.97999572753906,
                  "Volume": 1961200,
                  "_deepnote_index_column": "2016-04-29T00:00:00.000000"
                },
                {
                  "Symbols": "MMM",
                  "Adj Close": 145.39401245117188,
                  "Close": 168.33999633789062,
                  "High": 168.5,
                  "Low": 166.94000244140625,
                  "Open": 167.3000030517578,
                  "Volume": 1700300,
                  "_deepnote_index_column": "2016-05-02T00:00:00.000000"
                },
                {
                  "Symbols": "MMM",
                  "Adj Close": 145.07444763183594,
                  "Close": 167.97000122070312,
                  "High": 168.07000732421875,
                  "Low": 166.66000366210938,
                  "Open": 167.38999938964844,
                  "Volume": 1922200,
                  "_deepnote_index_column": "2016-05-03T00:00:00.000000"
                },
                {
                  "Symbols": "MMM",
                  "Adj Close": 144.3748779296875,
                  "Close": 167.16000366210938,
                  "High": 167.6999969482422,
                  "Low": 166.2899932861328,
                  "Open": 166.3699951171875,
                  "Volume": 2118100,
                  "_deepnote_index_column": "2016-05-04T00:00:00.000000"
                },
                {
                  "Symbols": "MMM",
                  "Adj Close": 144.9016571044922,
                  "Close": 167.77000427246094,
                  "High": 168.3300018310547,
                  "Low": 167.19000244140625,
                  "Open": 167.4600067138672,
                  "Volume": 1680200,
                  "_deepnote_index_column": "2016-05-05T00:00:00.000000"
                },
                {
                  "Symbols": "MMM",
                  "Adj Close": 145.8690185546875,
                  "Close": 168.88999938964844,
                  "High": 169.0500030517578,
                  "Low": 167,
                  "Open": 167.83999633789062,
                  "Volume": 1630200,
                  "_deepnote_index_column": "2016-05-06T00:00:00.000000"
                },
                {
                  "Symbols": "MMM",
                  "Adj Close": 145.54945373535156,
                  "Close": 168.52000427246094,
                  "High": 169.0500030517578,
                  "Low": 167.69000244140625,
                  "Open": 168.58999633789062,
                  "Volume": 1301300,
                  "_deepnote_index_column": "2016-05-09T00:00:00.000000"
                },
                {
                  "Symbols": "MMM",
                  "Adj Close": 147.05223083496094,
                  "Close": 170.25999450683594,
                  "High": 170.38999938964844,
                  "Low": 169,
                  "Open": 169.22999572753906,
                  "Volume": 1732600,
                  "_deepnote_index_column": "2016-05-10T00:00:00.000000"
                },
                {
                  "Symbols": "MMM",
                  "Adj Close": 146.62908935546875,
                  "Close": 169.77000427246094,
                  "High": 171.27000427246094,
                  "Low": 169.57000732421875,
                  "Open": 170.1999969482422,
                  "Volume": 1786400,
                  "_deepnote_index_column": "2016-05-11T00:00:00.000000"
                },
                {
                  "Symbols": "MMM",
                  "Adj Close": 146.95726013183594,
                  "Close": 170.14999389648438,
                  "High": 170.6300048828125,
                  "Low": 168.75999450683594,
                  "Open": 169.86000061035156,
                  "Volume": 1741900,
                  "_deepnote_index_column": "2016-05-12T00:00:00.000000"
                },
                {
                  "Symbols": "MMM",
                  "Adj Close": 145.37667846679688,
                  "Close": 168.32000732421875,
                  "High": 170.3800048828125,
                  "Low": 167.82000732421875,
                  "Open": 170.0500030517578,
                  "Volume": 1875900,
                  "_deepnote_index_column": "2016-05-13T00:00:00.000000"
                },
                {
                  "Symbols": "MMM",
                  "Adj Close": 146.43905639648438,
                  "Close": 169.5500030517578,
                  "High": 169.89999389648438,
                  "Low": 168.42999267578125,
                  "Open": 168.5,
                  "Volume": 1826200,
                  "_deepnote_index_column": "2016-05-16T00:00:00.000000"
                },
                {
                  "Symbols": "MMM",
                  "Adj Close": 144.93621826171875,
                  "Close": 167.80999755859375,
                  "High": 169.94000244140625,
                  "Low": 167.08999633789062,
                  "Open": 169.57000732421875,
                  "Volume": 2126000,
                  "_deepnote_index_column": "2016-05-17T00:00:00.000000"
                },
                {
                  "Symbols": "MMM",
                  "Adj Close": 145.0405731201172,
                  "Close": 166.82000732421875,
                  "High": 167.92999267578125,
                  "Low": 165.75999450683594,
                  "Open": 166.5,
                  "Volume": 1624400,
                  "_deepnote_index_column": "2016-05-18T00:00:00.000000"
                },
                {
                  "Symbols": "MMM",
                  "Adj Close": 143.55381774902344,
                  "Close": 165.11000061035156,
                  "High": 166.05999755859375,
                  "Low": 163.1699981689453,
                  "Open": 165.3699951171875,
                  "Volume": 1657300,
                  "_deepnote_index_column": "2016-05-19T00:00:00.000000"
                },
                {
                  "Symbols": "MMM",
                  "Adj Close": 143.46685791015625,
                  "Close": 165.00999450683594,
                  "High": 166.47000122070312,
                  "Low": 164.92999267578125,
                  "Open": 165.25,
                  "Volume": 1746500,
                  "_deepnote_index_column": "2016-05-20T00:00:00.000000"
                },
                {
                  "Symbols": "MMM",
                  "Adj Close": 144.42323303222656,
                  "Close": 166.11000061035156,
                  "High": 166.55999755859375,
                  "Low": 164.52000427246094,
                  "Open": 165.27999877929688,
                  "Volume": 1653500,
                  "_deepnote_index_column": "2016-05-23T00:00:00.000000"
                }
              ],
              "rows_bottom": null
            },
            "text/plain": "           Symbols   Adj Close       Close        High         Low  \\\nDate                                                                 \n2016-04-26     MMM  143.528381  166.179993  167.789993  164.970001   \n2016-04-27     MMM  144.893021  167.759995  168.380005  166.100006   \n2016-04-28     MMM  144.236649  167.000000  168.770004  166.199997   \n2016-04-29     MMM  144.564835  167.380005  167.779999  166.500000   \n2016-05-02     MMM  145.394012  168.339996  168.500000  166.940002   \n2016-05-03     MMM  145.074448  167.970001  168.070007  166.660004   \n2016-05-04     MMM  144.374878  167.160004  167.699997  166.289993   \n2016-05-05     MMM  144.901657  167.770004  168.330002  167.190002   \n2016-05-06     MMM  145.869019  168.889999  169.050003  167.000000   \n2016-05-09     MMM  145.549454  168.520004  169.050003  167.690002   \n2016-05-10     MMM  147.052231  170.259995  170.389999  169.000000   \n2016-05-11     MMM  146.629089  169.770004  171.270004  169.570007   \n2016-05-12     MMM  146.957260  170.149994  170.630005  168.759995   \n2016-05-13     MMM  145.376678  168.320007  170.380005  167.820007   \n2016-05-16     MMM  146.439056  169.550003  169.899994  168.429993   \n2016-05-17     MMM  144.936218  167.809998  169.940002  167.089996   \n2016-05-18     MMM  145.040573  166.820007  167.929993  165.759995   \n2016-05-19     MMM  143.553818  165.110001  166.059998  163.169998   \n2016-05-20     MMM  143.466858  165.009995  166.470001  164.929993   \n2016-05-23     MMM  144.423233  166.110001  166.559998  164.520004   \n\n                  Open     Volume  \nDate                               \n2016-04-26  167.500000  3192100.0  \n2016-04-27  166.990005  2227700.0  \n2016-04-28  166.850006  1654700.0  \n2016-04-29  166.979996  1961200.0  \n2016-05-02  167.300003  1700300.0  \n2016-05-03  167.389999  1922200.0  \n2016-05-04  166.369995  2118100.0  \n2016-05-05  167.460007  1680200.0  \n2016-05-06  167.839996  1630200.0  \n2016-05-09  168.589996  1301300.0  \n2016-05-10  169.229996  1732600.0  \n2016-05-11  170.199997  1786400.0  \n2016-05-12  169.860001  1741900.0  \n2016-05-13  170.050003  1875900.0  \n2016-05-16  168.500000  1826200.0  \n2016-05-17  169.570007  2126000.0  \n2016-05-18  166.500000  1624400.0  \n2016-05-19  165.369995  1657300.0  \n2016-05-20  165.250000  1746500.0  \n2016-05-23  165.279999  1653500.0  ",
            "text/html": "<div>\n<style scoped>\n    .dataframe tbody tr th:only-of-type {\n        vertical-align: middle;\n    }\n\n    .dataframe tbody tr th {\n        vertical-align: top;\n    }\n\n    .dataframe thead th {\n        text-align: right;\n    }\n</style>\n<table border=\"1\" class=\"dataframe\">\n  <thead>\n    <tr style=\"text-align: right;\">\n      <th></th>\n      <th>Symbols</th>\n      <th>Adj Close</th>\n      <th>Close</th>\n      <th>High</th>\n      <th>Low</th>\n      <th>Open</th>\n      <th>Volume</th>\n    </tr>\n    <tr>\n      <th>Date</th>\n      <th></th>\n      <th></th>\n      <th></th>\n      <th></th>\n      <th></th>\n      <th></th>\n      <th></th>\n    </tr>\n  </thead>\n  <tbody>\n    <tr>\n      <th>2016-04-26</th>\n      <td>MMM</td>\n      <td>143.528381</td>\n      <td>166.179993</td>\n      <td>167.789993</td>\n      <td>164.970001</td>\n      <td>167.500000</td>\n      <td>3192100.0</td>\n    </tr>\n    <tr>\n      <th>2016-04-27</th>\n      <td>MMM</td>\n      <td>144.893021</td>\n      <td>167.759995</td>\n      <td>168.380005</td>\n      <td>166.100006</td>\n      <td>166.990005</td>\n      <td>2227700.0</td>\n    </tr>\n    <tr>\n      <th>2016-04-28</th>\n      <td>MMM</td>\n      <td>144.236649</td>\n      <td>167.000000</td>\n      <td>168.770004</td>\n      <td>166.199997</td>\n      <td>166.850006</td>\n      <td>1654700.0</td>\n    </tr>\n    <tr>\n      <th>2016-04-29</th>\n      <td>MMM</td>\n      <td>144.564835</td>\n      <td>167.380005</td>\n      <td>167.779999</td>\n      <td>166.500000</td>\n      <td>166.979996</td>\n      <td>1961200.0</td>\n    </tr>\n    <tr>\n      <th>2016-05-02</th>\n      <td>MMM</td>\n      <td>145.394012</td>\n      <td>168.339996</td>\n      <td>168.500000</td>\n      <td>166.940002</td>\n      <td>167.300003</td>\n      <td>1700300.0</td>\n    </tr>\n    <tr>\n      <th>2016-05-03</th>\n      <td>MMM</td>\n      <td>145.074448</td>\n      <td>167.970001</td>\n      <td>168.070007</td>\n      <td>166.660004</td>\n      <td>167.389999</td>\n      <td>1922200.0</td>\n    </tr>\n    <tr>\n      <th>2016-05-04</th>\n      <td>MMM</td>\n      <td>144.374878</td>\n      <td>167.160004</td>\n      <td>167.699997</td>\n      <td>166.289993</td>\n      <td>166.369995</td>\n      <td>2118100.0</td>\n    </tr>\n    <tr>\n      <th>2016-05-05</th>\n      <td>MMM</td>\n      <td>144.901657</td>\n      <td>167.770004</td>\n      <td>168.330002</td>\n      <td>167.190002</td>\n      <td>167.460007</td>\n      <td>1680200.0</td>\n    </tr>\n    <tr>\n      <th>2016-05-06</th>\n      <td>MMM</td>\n      <td>145.869019</td>\n      <td>168.889999</td>\n      <td>169.050003</td>\n      <td>167.000000</td>\n      <td>167.839996</td>\n      <td>1630200.0</td>\n    </tr>\n    <tr>\n      <th>2016-05-09</th>\n      <td>MMM</td>\n      <td>145.549454</td>\n      <td>168.520004</td>\n      <td>169.050003</td>\n      <td>167.690002</td>\n      <td>168.589996</td>\n      <td>1301300.0</td>\n    </tr>\n    <tr>\n      <th>2016-05-10</th>\n      <td>MMM</td>\n      <td>147.052231</td>\n      <td>170.259995</td>\n      <td>170.389999</td>\n      <td>169.000000</td>\n      <td>169.229996</td>\n      <td>1732600.0</td>\n    </tr>\n    <tr>\n      <th>2016-05-11</th>\n      <td>MMM</td>\n      <td>146.629089</td>\n      <td>169.770004</td>\n      <td>171.270004</td>\n      <td>169.570007</td>\n      <td>170.199997</td>\n      <td>1786400.0</td>\n    </tr>\n    <tr>\n      <th>2016-05-12</th>\n      <td>MMM</td>\n      <td>146.957260</td>\n      <td>170.149994</td>\n      <td>170.630005</td>\n      <td>168.759995</td>\n      <td>169.860001</td>\n      <td>1741900.0</td>\n    </tr>\n    <tr>\n      <th>2016-05-13</th>\n      <td>MMM</td>\n      <td>145.376678</td>\n      <td>168.320007</td>\n      <td>170.380005</td>\n      <td>167.820007</td>\n      <td>170.050003</td>\n      <td>1875900.0</td>\n    </tr>\n    <tr>\n      <th>2016-05-16</th>\n      <td>MMM</td>\n      <td>146.439056</td>\n      <td>169.550003</td>\n      <td>169.899994</td>\n      <td>168.429993</td>\n      <td>168.500000</td>\n      <td>1826200.0</td>\n    </tr>\n    <tr>\n      <th>2016-05-17</th>\n      <td>MMM</td>\n      <td>144.936218</td>\n      <td>167.809998</td>\n      <td>169.940002</td>\n      <td>167.089996</td>\n      <td>169.570007</td>\n      <td>2126000.0</td>\n    </tr>\n    <tr>\n      <th>2016-05-18</th>\n      <td>MMM</td>\n      <td>145.040573</td>\n      <td>166.820007</td>\n      <td>167.929993</td>\n      <td>165.759995</td>\n      <td>166.500000</td>\n      <td>1624400.0</td>\n    </tr>\n    <tr>\n      <th>2016-05-19</th>\n      <td>MMM</td>\n      <td>143.553818</td>\n      <td>165.110001</td>\n      <td>166.059998</td>\n      <td>163.169998</td>\n      <td>165.369995</td>\n      <td>1657300.0</td>\n    </tr>\n    <tr>\n      <th>2016-05-20</th>\n      <td>MMM</td>\n      <td>143.466858</td>\n      <td>165.009995</td>\n      <td>166.470001</td>\n      <td>164.929993</td>\n      <td>165.250000</td>\n      <td>1746500.0</td>\n    </tr>\n    <tr>\n      <th>2016-05-23</th>\n      <td>MMM</td>\n      <td>144.423233</td>\n      <td>166.110001</td>\n      <td>166.559998</td>\n      <td>164.520004</td>\n      <td>165.279999</td>\n      <td>1653500.0</td>\n    </tr>\n  </tbody>\n</table>\n</div>"
          },
          "metadata": {}
        }
      ],
      "execution_count": null
    },
    {
      "cell_type": "code",
      "metadata": {
        "tags": [],
        "cell_id": "00007-498ec2e5-ca0a-4eb8-9df3-21ab1d26e250",
        "deepnote_to_be_reexecuted": false,
        "source_hash": "4b25f46d",
        "execution_millis": 34843,
        "execution_start": 1619481211014,
        "deepnote_cell_type": "code"
      },
      "source": "def get_obv_helper(data, close_col, vol_col, trend_periods=13):\n    for index, row in data.iterrows():\n        if index > 0:\n            last_obv = data.at[index - 1, 'obv']\n            if row[close_col] > data.at[index - 1, close_col]:\n                current_obv = last_obv + row[vol_col]\n            elif row[close_col] < data.at[index - 1, close_col]:\n                current_obv = last_obv - row[vol_col]\n            else:\n                current_obv = last_obv\n        else:\n            last_obv = 0\n            current_obv = row[vol_col]\n\n        data.at[index, 'obv'] = current_obv\n    data['obv_ema' + str(trend_periods)] = data['obv'].ewm(ignore_na=False, min_periods=0, com=trend_periods, adjust=True).mean()\n    return data\n\ndef get_obv():\n    \"\"\"\n    Getting the On-Balance Volume for the symbol and creates the Master table\n    \"\"\"\n    new_data = data_by_symbol.reset_index() \n    group_by_symbol = new_data.groupby('Symbols')\n    dfs = []\n    for symbol, data in group_by_symbol:\n        data_with_obv = get_obv_helper(data=data.reset_index(drop=True), close_col='Close', vol_col='Volume')\n        dfs.append(data_with_obv)\n    master_df = pd.concat(dfs)\n    return master_df\n\nmaster_df = get_obv()\n",
      "outputs": [],
      "execution_count": null
    },
    {
      "cell_type": "code",
      "metadata": {
        "tags": [],
        "cell_id": "00008-94164841-2802-4c5e-a5eb-1d695f18bcd2",
        "deepnote_to_be_reexecuted": false,
        "source_hash": "7cb52175",
        "execution_millis": 960,
        "execution_start": 1619481245872,
        "deepnote_cell_type": "code"
      },
      "source": "def get_rsi():\n    group_by_symbol = master_df.groupby('Symbols')\n    dfs = []\n    for symbol, symbol_data in group_by_symbol:\n        delta = symbol_data['Close'].diff() #row i - row prev for Close\n        up = delta.clip(lower = 0)\n        down = -1 * delta.clip(upper = 0)\n        ema_up = up.ewm(com = 13, adjust = False).mean() #exponential weighted function calculated recursively\n        ema_down = down.ewm(com = 13, adjust = False).mean()\n        rs = ema_up / ema_down #avg gain / avg loss\n        symbol_data['rsi'] = 100 - (100/(1 + rs))\n        symbol_data = symbol_data.iloc[14: ] #skip first 14 days to have real values\n        dfs.append(symbol_data)\n    master = pd.concat(dfs)\n    return master\n\nmaster_df = get_rsi()\n",
      "outputs": [],
      "execution_count": null
    },
    {
      "cell_type": "code",
      "metadata": {
        "tags": [],
        "cell_id": "00006-63ca0084-ee71-4ee2-9458-362f24e3c473",
        "deepnote_to_be_reexecuted": false,
        "source_hash": "8bf22b5e",
        "execution_millis": 51177,
        "execution_start": 1619481246845,
        "deepnote_cell_type": "code"
      },
      "source": "#finds average true range (ATR)\ndef get_atr_helper(data, trend_periods = 14, open_col = 'Open', high_col = 'High', low_col = 'Low', close_col = 'Close', drop_tr = True):\n    for index, row in data.iterrows():\n        prices = [row[high_col], row[low_col], row[close_col], row[open_col]]\n        if index > 0:\n            val1 = np.amax(prices) - np.amin(prices)\n            val2 = abs(np.amax(prices) - data.at[index - 1, close_col])\n            val3 = abs(np.amin(prices) - data.at[index - 1, close_col])\n            true_range = np.amax([val1, val2, val3])\n        else:\n            true_range = np.amax(prices) - np.amin(prices)\n        data.at[index, 'true_range'] = true_range\n\n    data['atr'] = data['true_range'].ewm(ignore_na=False, min_periods=0, com=trend_periods, adjust=True).mean()\n    if drop_tr:\n        data = data.drop(['true_range'], axis = 1)\n    return data\n\ndef get_atr():\n    group_by_symbol = master_df.groupby('Symbols')\n    dfs = []\n    for symbol, data in group_by_symbol:\n        data_with_obv = get_atr_helper(data = data.reset_index(drop = True))\n        dfs.append(data_with_obv)\n    master = pd.concat(dfs)\n    return master\n\nmaster_df = get_atr()",
      "outputs": [],
      "execution_count": null
    },
    {
      "cell_type": "code",
      "metadata": {
        "tags": [],
        "cell_id": "00008-8c503984-5cc6-4bab-b3c3-7c5c50b0e73d",
        "deepnote_to_be_reexecuted": false,
        "source_hash": "1782457c",
        "execution_millis": 317,
        "execution_start": 1619481298023,
        "deepnote_cell_type": "code"
      },
      "source": "#finds the exponential moving average \ndef ema_helper(data, period=14, column='Close'): \n    data['ema' + str(period)] = data[column].ewm(ignore_na=False, min_periods=period, com=period, adjust=True).mean()\n    return data\n\ndef get_ema():    \n    group_by_symbol = master_df.groupby('Symbols')\n    dfs = []\n    for symbol, data in group_by_symbol:\n        data_with_obv = ema_helper(data = data.reset_index(drop = True))\n        dfs.append(data_with_obv)\n    master = pd.concat(dfs)\n    return master\nmaster_df = get_ema()",
      "outputs": [],
      "execution_count": null
    },
    {
      "cell_type": "code",
      "metadata": {
        "tags": [],
        "cell_id": "00008-0c84e768-d1c0-403b-b08d-d16c67caf29e",
        "deepnote_to_be_reexecuted": false,
        "source_hash": "837a9dcb",
        "execution_millis": 1151,
        "execution_start": 1619481298361,
        "deepnote_cell_type": "code"
      },
      "source": "#finds EMA of different time frames and MACD\n\ndef ema_helper9(data, period=9, column='Close'): \n    data['ema' + str(period)] = data[column].ewm(ignore_na=False, min_periods=period, com=period, adjust=True).mean()\n    return data\n\ndef ema_helper26(data, period=26, column='Close'): \n    data['ema' + str(period)] = data[column].ewm(ignore_na=False, min_periods=period, com=period, adjust=True).mean()\n    return data\n\ndef ema_helper12(data, period=12, column='Close'): \n    data['ema' + str(period)] = data[column].ewm(ignore_na=False, min_periods=period, com=period, adjust=True).mean()\n    return data\n\ndef get_macd1():    \n    group_by_symbol = master_df.groupby('Symbols')\n    dfs = []\n    for symbol, data in group_by_symbol:\n        data_with_obv = ema_helper26(data = data.reset_index(drop = True))\n        dfs.append(data_with_obv)\n    master = pd.concat(dfs)\n    return master\nmaster_df = get_macd1()\n\ndef get_macd2():    \n    group_by_symbol = master_df.groupby('Symbols')\n    dfs = []\n    for symbol, data in group_by_symbol:\n        data_with_obv = ema_helper12(data = data.reset_index(drop = True))\n        dfs.append(data_with_obv)\n    master = pd.concat(dfs)\n    return master\nmaster_df = get_macd2()\n    \ndef get_ema9():    \n    group_by_symbol = master_df.groupby('Symbols')\n    dfs = []\n    for symbol, data in group_by_symbol:\n        data_with_obv = ema_helper9(data = data.reset_index(drop = True))\n        dfs.append(data_with_obv)\n    master = pd.concat(dfs)\n    return master\nmaster_df = get_ema9()\n\nmacdline = master_df.ema12 - master_df.ema26\n\nsignalline = master_df.ema9\nmacdhist = macdline - signalline\n\nmaster_df.insert(10,\"macd\",macdline,True)\n\nmaster_df.insert(1,\"macdhist\",macdhist,True)\n\nmaster_df = master_df.dropna()\n\nmaster_df\n",
      "outputs": [
        {
          "output_type": "execute_result",
          "execution_count": 9,
          "data": {
            "application/vnd.deepnote.dataframe.v2+json": {
              "row_count": 303098,
              "column_count": 18,
              "columns": [
                {
                  "name": "Date",
                  "dtype": "datetime64[ns]"
                },
                {
                  "name": "macdhist",
                  "dtype": "float64"
                },
                {
                  "name": "Symbols",
                  "dtype": "object"
                },
                {
                  "name": "Adj Close",
                  "dtype": "float64"
                },
                {
                  "name": "Close",
                  "dtype": "float64"
                },
                {
                  "name": "High",
                  "dtype": "float64"
                },
                {
                  "name": "Low",
                  "dtype": "float64"
                },
                {
                  "name": "Open",
                  "dtype": "float64"
                },
                {
                  "name": "Volume",
                  "dtype": "float64"
                },
                {
                  "name": "obv",
                  "dtype": "float64"
                },
                {
                  "name": "obv_ema13",
                  "dtype": "float64"
                },
                {
                  "name": "macd",
                  "dtype": "float64"
                },
                {
                  "name": "rsi",
                  "dtype": "float64"
                },
                {
                  "name": "atr",
                  "dtype": "float64"
                },
                {
                  "name": "ema14",
                  "dtype": "float64"
                },
                {
                  "name": "ema26",
                  "dtype": "float64"
                },
                {
                  "name": "ema12",
                  "dtype": "float64"
                },
                {
                  "name": "ema9",
                  "dtype": "float64"
                },
                {
                  "name": "_deepnote_index_column",
                  "dtype": "int64"
                }
              ],
              "rows_top": [
                {
                  "Date": "2016-06-21T00:00:00.000000",
                  "macdhist": -31.21803316842305,
                  "Symbols": "AAL",
                  "Adj Close": 28.849916458129883,
                  "Close": 30.020000457763672,
                  "High": 30.38999938964844,
                  "Low": 29.690000534057617,
                  "Open": 30.290000915527344,
                  "Volume": 8922900,
                  "obv": -14348500,
                  "obv_ema13": -29779289.86532532,
                  "macd": -0.240186277861266,
                  "rsi": 37.167829122282406,
                  "atr": 1.0140333485001245,
                  "ema14": 31.181961181961757,
                  "ema26": 31.359314221172564,
                  "ema12": 31.119127943311298,
                  "ema9": 30.977846890561786,
                  "_deepnote_index_column": 25
                },
                {
                  "Date": "2016-06-22T00:00:00.000000",
                  "macdhist": -31.12423206707814,
                  "Symbols": "AAL",
                  "Adj Close": 28.72499084472656,
                  "Close": 29.88999938964844,
                  "High": 30.32999992370605,
                  "Low": 29.81999969482422,
                  "Open": 30.049999237060547,
                  "Volume": 6675900,
                  "obv": -21024400,
                  "obv_ema13": -29122472.329892483,
                  "macd": -0.261886285732146,
                  "rsi": 36.49116108751529,
                  "atr": 0.9742563037381686,
                  "ema14": 31.080002758907135,
                  "ema26": 31.274156726280516,
                  "ema12": 31.01227044054837,
                  "ema9": 30.862345781345994,
                  "_deepnote_index_column": 26
                },
                {
                  "Date": "2016-06-23T00:00:00.000000",
                  "macdhist": -31.07318500325103,
                  "Symbols": "AAL",
                  "Adj Close": 29.147838592529297,
                  "Close": 30.32999992370605,
                  "High": 30.489999771118164,
                  "Low": 29.770000457763672,
                  "Open": 30.25,
                  "Volume": 9139900,
                  "obv": -11884500,
                  "obv_ema13": -27833860.786755197,
                  "macd": -0.26701368489317545,
                  "rsi": 40.443281708285724,
                  "atr": 0.954433814573594,
                  "ema14": 31.02153072613533,
                  "ema26": 31.220557277305932,
                  "ema12": 30.953543592412757,
                  "ema9": 30.806171318357855,
                  "_deepnote_index_column": 27
                },
                {
                  "Date": "2016-06-24T00:00:00.000000",
                  "macdhist": -30.77977421894245,
                  "Symbols": "AAL",
                  "Adj Close": 25.995685577392575,
                  "Close": 27.049999237060547,
                  "High": 28.5,
                  "Low": 27.040000915527344,
                  "Open": 28.200000762939453,
                  "Volume": 36049900,
                  "obv": -47934400,
                  "obv_ema13": -29331480.75582322,
                  "macd": -0.36778667163443046,
                  "rsi": 26.969814042231036,
                  "atr": 1.1344862913794167,
                  "ema14": 30.715358976668366,
                  "ema26": 30.988377676650796,
                  "ema12": 30.620591005016365,
                  "ema9": 30.41198754730802,
                  "_deepnote_index_column": 28
                },
                {
                  "Date": "2016-06-27T00:00:00.000000",
                  "macdhist": -30.382877593938204,
                  "Symbols": "AAL",
                  "Adj Close": 24.28506088256836,
                  "Close": 25.270000457763672,
                  "High": 26.850000381469727,
                  "Low": 24.850000381469727,
                  "Open": 26.850000381469727,
                  "Volume": 23170100,
                  "obv": -71104500,
                  "obv_ema13": -32434290.341397163,
                  "macd": -0.5078511590905634,
                  "rsi": 22.574570492236205,
                  "atr": 1.21578087719706,
                  "ema14": 30.299898680570813,
                  "ema26": 30.67585287269047,
                  "ema12": 30.168001713599907,
                  "ema9": 29.87502643484764,
                  "_deepnote_index_column": 29
                },
                {
                  "Date": "2016-06-28T00:00:00.000000",
                  "macdhist": -30.135528656515152,
                  "Symbols": "AAL",
                  "Adj Close": 25.72659683227539,
                  "Close": 26.770000457763672,
                  "High": 26.8799991607666,
                  "Low": 25.76000022888184,
                  "Open": 26.1200008392334,
                  "Volume": 20026100,
                  "obv": -51078400,
                  "obv_ema13": -33815199.930884935,
                  "macd": -0.583321015709096,
                  "rsi": 32.55023174248407,
                  "atr": 1.2455713399563857,
                  "ema14": 30.033149450406544,
                  "ema26": 30.466082701170087,
                  "ema12": 29.88276168546099,
                  "ema9": 29.552207640806056,
                  "_deepnote_index_column": 30
                },
                {
                  "Date": "2016-06-29T00:00:00.000000",
                  "macdhist": -29.979551936813372,
                  "Symbols": "AAL",
                  "Adj Close": 26.62034797668457,
                  "Close": 27.700000762939453,
                  "High": 28.06999969482422,
                  "Low": 26.940000534057617,
                  "Open": 26.940000534057617,
                  "Volume": 15008800,
                  "obv": -36069600,
                  "obv_ema13": -33981736.77306941,
                  "macd": -0.6191510202505484,
                  "rsi": 37.89309968352191,
                  "atr": 1.2496480856471461,
                  "ema14": 29.858392490031385,
                  "ema26": 30.31996154152265,
                  "ema12": 29.700810521272103,
                  "ema9": 29.360400916562824,
                  "_deepnote_index_column": 31
                },
                {
                  "Date": "2016-06-30T00:00:00.000000",
                  "macdhist": -29.881828559141745,
                  "Symbols": "AAL",
                  "Adj Close": 27.206567764282227,
                  "Close": 28.309999465942383,
                  "High": 28.309999465942383,
                  "Low": 27.489999771118164,
                  "Open": 27.86000061035156,
                  "Volume": 11148300,
                  "obv": -24921300,
                  "obv_ema13": -33314056.360694174,
                  "macd": -0.6298173721885831,
                  "rsi": 41.18403760198957,
                  "atr": 1.2177295144499096,
                  "ema14": 29.743362400226957,
                  "ema26": 30.21543359347688,
                  "ema12": 29.585616221288298,
                  "ema9": 29.252011186953162,
                  "_deepnote_index_column": 32
                },
                {
                  "Date": "2016-07-01T00:00:00.000000",
                  "macdhist": -29.865529951372245,
                  "Symbols": "AAL",
                  "Adj Close": 28.186813354492188,
                  "Close": 29.32999992370605,
                  "High": 29.520000457763672,
                  "Low": 28.200000762939453,
                  "Open": 28.26000022888184,
                  "Volume": 13250000,
                  "obv": -11671300,
                  "obv_ema13": -31722763.002216067,
                  "macd": -0.6054967764853849,
                  "rsi": 46.30734972447834,
                  "atr": 1.2252696832197116,
                  "ema14": 29.712886040210154,
                  "ema26": 30.17006573412501,
                  "ema12": 29.564568957639626,
                  "ema9": 29.26003317488686,
                  "_deepnote_index_column": 33
                },
                {
                  "Date": "2016-07-05T00:00:00.000000",
                  "macdhist": -29.820998977999484,
                  "Symbols": "AAL",
                  "Adj Close": 27.80240631103516,
                  "Close": 28.93000030517578,
                  "High": 29.15999984741211,
                  "Low": 28.190000534057617,
                  "Open": 29.09000015258789,
                  "Volume": 9467000,
                  "obv": -21138300,
                  "obv_ema13": -30946164.049787503,
                  "macd": -0.5948164237578837,
                  "rsi": 44.66426596917962,
                  "atr": 1.2190269624255021,
                  "ema14": 29.655570217162076,
                  "ema26": 30.107416923178956,
                  "ema12": 29.512600499421072,
                  "ema9": 29.2261825542416,
                  "_deepnote_index_column": 34
                },
                {
                  "Date": "2016-07-06T00:00:00.000000",
                  "macdhist": -29.738497766786843,
                  "Symbols": "AAL",
                  "Adj Close": 27.245014190673828,
                  "Close": 28.350000381469727,
                  "High": 28.399999618530277,
                  "Low": 27.1200008392334,
                  "Open": 27.76000022888184,
                  "Volume": 18757500,
                  "obv": -39895800,
                  "obv_ema13": -31601539.719216898,
                  "macd": -0.6019528216956225,
                  "rsi": 42.31948033496112,
                  "atr": 1.2620113292074648,
                  "ema14": 29.560609635505735,
                  "ema26": 30.019812457301413,
                  "ema12": 29.41785963560579,
                  "ema9": 29.13654494509122,
                  "_deepnote_index_column": 35
                },
                {
                  "Date": "2016-07-07T00:00:00.000000",
                  "macdhist": -29.736331384731052,
                  "Symbols": "AAL",
                  "Adj Close": 28.254085540771484,
                  "Close": 29.399999618530277,
                  "High": 29.46999931335449,
                  "Low": 28.309999465942383,
                  "Open": 28.38999938964844,
                  "Volume": 11779800,
                  "obv": -28116000,
                  "obv_ema13": -31346754.850082412,
                  "macd": -0.572895748484985,
                  "rsi": 47.67495852868648,
                  "atr": 1.2546362812527299,
                  "ema14": 29.5489981329929,
                  "ema26": 29.98930657968743,
                  "ema12": 29.416410831202445,
                  "ema9": 29.163435636246067,
                  "_deepnote_index_column": 36
                },
                {
                  "Date": "2016-07-08T00:00:00.000000",
                  "macdhist": -29.777708037148642,
                  "Symbols": "AAL",
                  "Adj Close": 28.8691463470459,
                  "Close": 30.040000915527344,
                  "High": 30.280000686645508,
                  "Low": 29.700000762939453,
                  "Open": 29.799999237060547,
                  "Volume": 13659300,
                  "obv": -14456700,
                  "obv_ema13": -30114188.303369787,
                  "macd": -0.5249865850831412,
                  "rsi": 50.680771270777335,
                  "atr": 1.2277031811159467,
                  "ema14": 29.584297076193376,
                  "ema26": 29.99177162142651,
                  "ema12": 29.466785036343367,
                  "ema9": 29.2527214520655,
                  "_deepnote_index_column": 37
                },
                {
                  "Date": "2016-07-11T00:00:00.000000",
                  "macdhist": -29.891521701752186,
                  "Symbols": "AAL",
                  "Adj Close": 29.945486068725582,
                  "Close": 31.15999984741211,
                  "High": 31.440000534057617,
                  "Low": 30.21999931335449,
                  "Open": 30.229999542236328,
                  "Volume": 12374400,
                  "obv": -2082300,
                  "obv_ema13": -28071697.05709428,
                  "macd": -0.44488774568250733,
                  "rsi": 55.49856090814962,
                  "atr": 1.2400254540519218,
                  "ema14": 29.69698797047019,
                  "ema26": 30.04792664717805,
                  "ema12": 29.60303890149554,
                  "ema9": 29.44663395606968,
                  "_deepnote_index_column": 38
                },
                {
                  "Date": "2016-07-12T00:00:00.000000",
                  "macdhist": -30.234458623341688,
                  "Symbols": "AAL",
                  "Adj Close": 33.30906295776367,
                  "Close": 34.65999984741211,
                  "High": 34.88999938964844,
                  "Low": 32.75,
                  "Open": 32.779998779296875,
                  "Volume": 25515700,
                  "obv": 23433400,
                  "obv_ema13": -24324250.19416,
                  "macd": -0.2586666555083639,
                  "rsi": 66.50881211218775,
                  "atr": 1.4172433599637515,
                  "ema14": 30.050218381991666,
                  "ema26": 30.267203323023757,
                  "ema12": 30.008536667515394,
                  "ema9": 29.975791967833324,
                  "_deepnote_index_column": 39
                },
                {
                  "Date": "2016-07-13T00:00:00.000000",
                  "macdhist": -30.529725895369882,
                  "Symbols": "AAL",
                  "Adj Close": 33.10725784301758,
                  "Close": 34.45000076293945,
                  "High": 35.290000915527344,
                  "Low": 34.119998931884766,
                  "Open": 35,
                  "Volume": 15215100,
                  "obv": 8218300,
                  "obv_ema13": -21959640.049889587,
                  "macd": -0.10048085491872527,
                  "rsi": 65.46229000646971,
                  "atr": 1.3997254849631564,
                  "ema14": 30.361957618061695,
                  "ema26": 30.464002711903028,
                  "ema12": 30.363521856984303,
                  "ema9": 30.429245040451157,
                  "_deepnote_index_column": 40
                },
                {
                  "Date": "2016-07-14T00:00:00.000000",
                  "macdhist": -30.894115149798623,
                  "Symbols": "AAL",
                  "Adj Close": 34.48151397705078,
                  "Close": 35.880001068115234,
                  "High": 36.18999862670898,
                  "Low": 35,
                  "Open": 35.11000061035156,
                  "Volume": 16884400,
                  "obv": 25102700,
                  "obv_ema13": -18544204.483711287,
                  "macd": 0.08681049786471462,
                  "rsi": 69.03533889574824,
                  "atr": 1.4237343990913152,
                  "ema14": 30.751299332521494,
                  "ema26": 30.716297694969292,
                  "ema12": 30.803108192834006,
                  "ema9": 30.980925647663337,
                  "_deepnote_index_column": 41
                },
                {
                  "Date": "2016-07-15T00:00:00.000000",
                  "macdhist": -31.224861559119166,
                  "Symbols": "AAL",
                  "Adj Close": 34.49112319946289,
                  "Close": 35.88999938964844,
                  "High": 36.060001373291016,
                  "Low": 35.31999969482422,
                  "Open": 35.5099983215332,
                  "Volume": 9817100,
                  "obv": 34919800,
                  "obv_ema13": -14668617.311354652,
                  "macd": 0.2523187374290501,
                  "rsi": 69.05944068211173,
                  "atr": 1.375678632333717,
                  "ema14": 31.112469953633486,
                  "ema26": 30.955026738014688,
                  "ema12": 31.207345475443738,
                  "ema9": 31.477180296548216,
                  "_deepnote_index_column": 42
                },
                {
                  "Date": "2016-07-18T00:00:00.000000",
                  "macdhist": -31.53439516944967,
                  "Symbols": "AAL",
                  "Adj Close": 34.625667572021484,
                  "Close": 36.02999877929688,
                  "High": 36.34000015258789,
                  "Low": 35.7599983215332,
                  "Open": 36.02999877929688,
                  "Volume": 8606800,
                  "obv": 43526600,
                  "obv_ema13": -10454537.644747233,
                  "macd": 0.40252541591964786,
                  "rsi": 69.41838496879879,
                  "atr": 1.3199565288759578,
                  "ema14": 31.456849794216566,
                  "ema26": 31.18708703487922,
                  "ema12": 31.589612450798867,
                  "ema9": 31.936920585369318,
                  "_deepnote_index_column": 43
                },
                {
                  "Date": "2016-07-19T00:00:00.000000",
                  "macdhist": -31.814361174597735,
                  "Symbols": "AAL",
                  "Adj Close": 34.606449127197266,
                  "Close": 36.0099983215332,
                  "High": 36.08000183105469,
                  "Low": 35.33000183105469,
                  "Open": 35.779998779296875,
                  "Volume": 7956300,
                  "obv": 35570300,
                  "obv_ema13": -7125026.522365006,
                  "macd": 0.5334534526155252,
                  "rsi": 69.29470555579611,
                  "atr": 1.2801756982730013,
                  "ema14": 31.774642504886092,
                  "ema26": 31.405721696085404,
                  "ema12": 31.93917514870093,
                  "ema9": 32.34781462721326,
                  "_deepnote_index_column": 44
                },
                {
                  "Date": "2016-07-20T00:00:00.000000",
                  "macdhist": -32.063242812635764,
                  "Symbols": "AAL",
                  "Adj Close": 34.51995086669922,
                  "Close": 35.91999816894531,
                  "High": 36.72999954223633,
                  "Low": 35.38999938964844,
                  "Open": 36.06999969482422,
                  "Volume": 13098400,
                  "obv": 22471900,
                  "obv_ema13": -4985890.161301086,
                  "macd": 0.6446183948425279,
                  "rsi": 68.70153803495194,
                  "atr": 1.28433819418189,
                  "ema14": 32.0630701418807,
                  "ema26": 31.6086815201469,
                  "ema12": 32.25329991498943,
                  "ema9": 32.707861207478295,
                  "_deepnote_index_column": 45
                },
                {
                  "Date": "2016-07-21T00:00:00.000000",
                  "macdhist": -32.22638864886617,
                  "Symbols": "AAL",
                  "Adj Close": 33.59737014770508,
                  "Close": 34.959999084472656,
                  "High": 35.560001373291016,
                  "Low": 34.439998626708984,
                  "Open": 35.099998474121094,
                  "Volume": 16429900,
                  "obv": 6042000,
                  "obv_ema13": -4189517.0786161483,
                  "macd": 0.708289865395642,
                  "rsi": 62.55086184442023,
                  "atr": 1.2979124915439766,
                  "ema14": 32.26404890081594,
                  "ema26": 31.758170907685226,
                  "ema12": 32.46646077308087,
                  "ema9": 32.93467851426181,
                  "_deepnote_index_column": 46
                },
                {
                  "Date": "2016-07-22T00:00:00.000000",
                  "macdhist": -32.46877402521599,
                  "Symbols": "AAL",
                  "Adj Close": 34.942806243896484,
                  "Close": 36.36000061035156,
                  "High": 36.560001373291016,
                  "Low": 35.599998474121094,
                  "Open": 36.45000076293945,
                  "Volume": 14704700,
                  "obv": 20746700,
                  "obv_ema13": -2390175.8150081616,
                  "macd": 0.8106300791481296,
                  "rsi": 67.16728466008371,
                  "atr": 1.3188137822587476,
                  "ema14": 32.54744370000179,
                  "ema26": 31.961898792109746,
                  "ema12": 32.772528871257876,
                  "ema9": 33.27940410436412,
                  "_deepnote_index_column": 47
                },
                {
                  "Date": "2016-07-25T00:00:00.000000",
                  "macdhist": -32.653395218414424,
                  "Symbols": "AAL",
                  "Adj Close": 34.40463638305664,
                  "Close": 35.79999923706055,
                  "High": 36.400001525878906,
                  "Low": 35.52000045776367,
                  "Open": 36.34999847412109,
                  "Volume": 9526700,
                  "obv": 11220000,
                  "obv_ema13": -1408811.7682246228,
                  "macd": 0.8795201101773387,
                  "rsi": 63.7804307374241,
                  "atr": 1.2885291576615525,
                  "ema14": 32.77191856193375,
                  "ema26": 32.130595217800824,
                  "ema12": 33.01011532797816,
                  "ema9": 33.53291532859176,
                  "_deepnote_index_column": 48
                },
                {
                  "Date": "2016-07-26T00:00:00.000000",
                  "macdhist": -32.87221082949376,
                  "Symbols": "AAL",
                  "Adj Close": 35.12540817260742,
                  "Close": 36.54999923706055,
                  "High": 36.68000030517578,
                  "Low": 35.650001525878906,
                  "Open": 35.90999984741211,
                  "Volume": 8871200,
                  "obv": 20091200,
                  "obv_ema13": 140402.04813718476,
                  "macd": 0.9639758824816482,
                  "rsi": 66.23598540953006,
                  "atr": 1.2707285045947967,
                  "ema14": 33.032051640999924,
                  "ema26": 32.32350754513961,
                  "ema12": 33.28748342762126,
                  "ema9": 33.83618671197541,
                  "_deepnote_index_column": 49
                },
                {
                  "Date": "2016-07-27T00:00:00.000000",
                  "macdhist": -33.04991117658472,
                  "Symbols": "AAL",
                  "Adj Close": 34.78904342651367,
                  "Close": 36.20000076293945,
                  "High": 36.59999847412109,
                  "Low": 35.900001525878906,
                  "Open": 36.5,
                  "Volume": 6671200,
                  "obv": 13420000,
                  "obv_ema13": 1096681.9013321043,
                  "macd": 1.0237584808318303,
                  "rsi": 64.0535611638019,
                  "atr": 1.2315175277529282,
                  "ema14": 33.24969928685717,
                  "ema26": 32.49160930584975,
                  "ema12": 33.51536778668158,
                  "ema9": 34.07366965741655,
                  "_deepnote_index_column": 50
                },
                {
                  "Date": "2016-07-28T00:00:00.000000",
                  "macdhist": -33.2226114961374,
                  "Symbols": "AAL",
                  "Adj Close": 34.923580169677734,
                  "Close": 36.34000015258789,
                  "High": 36.52999877929688,
                  "Low": 35.75,
                  "Open": 36.06999969482422,
                  "Volume": 6518800,
                  "obv": 19938800,
                  "obv_ema13": 2452735.4516882244,
                  "macd": 1.078641269663379,
                  "rsi": 64.55662708113627,
                  "atr": 1.2005598703313878,
                  "ema14": 33.46158079976869,
                  "ema26": 32.65744313535976,
                  "ema12": 33.73608440502314,
                  "ema9": 34.301252765800776,
                  "_deepnote_index_column": 51
                }
              ],
              "rows_bottom": [
                {
                  "Date": "2021-03-16T00:00:00.000000",
                  "macdhist": -156.6631048013121,
                  "Symbols": "ZTS",
                  "Adj Close": 154.7994384765625,
                  "Close": 155.02999877929688,
                  "High": 156.36000061035156,
                  "Low": 154.39999389648438,
                  "Open": 155.14999389648438,
                  "Volume": 1627600,
                  "obv": 253485100,
                  "obv_ema13": 251278989.02130112,
                  "macd": -2.565050398852833,
                  "rsi": 49.528301309602824,
                  "atr": 4.063712022804393,
                  "ema14": 155.5288404374342,
                  "ema26": 157.56926196332248,
                  "ema12": 155.00421156446964,
                  "ema9": 154.09805440245927,
                  "_deepnote_index_column": 1216
                },
                {
                  "Date": "2021-03-17T00:00:00.000000",
                  "macdhist": -156.7287987003318,
                  "Symbols": "ZTS",
                  "Adj Close": 155.937744140625,
                  "Close": 156.1699981689453,
                  "High": 160.3800048828125,
                  "Low": 153.60000610351562,
                  "Open": 154.17999267578125,
                  "Volume": 2482500,
                  "obv": 255967600,
                  "obv_ema13": 251613889.8054939,
                  "macd": -2.4235499212239233,
                  "rsi": 51.654160225513984,
                  "atr": 4.244797806570559,
                  "ema14": 155.57158428620164,
                  "ema26": 157.51743737834553,
                  "ema12": 155.0938874571216,
                  "ema9": 154.30524877910787,
                  "_deepnote_index_column": 1217
                },
                {
                  "Date": "2021-03-18T00:00:00.000000",
                  "macdhist": -156.55716338592114,
                  "Symbols": "ZTS",
                  "Adj Close": 152.1933135986328,
                  "Close": 152.4199981689453,
                  "High": 155.9600067138672,
                  "Low": 151.75999450683594,
                  "Open": 155.3000030517578,
                  "Volume": 2462200,
                  "obv": 253505400,
                  "obv_ema13": 251748997.67653006,
                  "macd": -2.4404396678295086,
                  "rsi": 44.94753915743736,
                  "atr": 4.255811530273147,
                  "ema14": 155.36147854505123,
                  "ema26": 157.32864333355295,
                  "ema12": 154.88820366572344,
                  "ema9": 154.11672371809163,
                  "_deepnote_index_column": 1218
                },
                {
                  "Date": "2021-03-19T00:00:00.000000",
                  "macdhist": -156.43763070816038,
                  "Symbols": "ZTS",
                  "Adj Close": 152.89227294921875,
                  "Close": 153.1199951171875,
                  "High": 154.89999389648438,
                  "Low": 151.97999572753906,
                  "Open": 152.60000610351562,
                  "Volume": 4034400,
                  "obv": 257539800,
                  "obv_ema13": 252162626.41392076,
                  "macd": -2.4205798501591858,
                  "rsi": 46.34788363702272,
                  "atr": 4.166757306184624,
                  "ema14": 155.21204631652697,
                  "ema26": 157.17276747368754,
                  "ema12": 154.75218762352836,
                  "ema9": 154.0170508580012,
                  "_deepnote_index_column": 1219
                },
                {
                  "Date": "2021-03-22T00:00:00.000000",
                  "macdhist": -156.47426235086363,
                  "Symbols": "ZTS",
                  "Adj Close": 155.3985595703125,
                  "Close": 155.6300048828125,
                  "High": 155.91000366210938,
                  "Low": 152.60000610351562,
                  "Open": 153.0399932861328,
                  "Volume": 1604100,
                  "obv": 259143900,
                  "obv_ema13": 252661288.8129264,
                  "macd": -2.295916090381297,
                  "rsi": 51.14651758189345,
                  "atr": 4.109639989678565,
                  "ema14": 155.239910220946,
                  "ema26": 157.11562811846997,
                  "ema12": 154.81971202808867,
                  "ema9": 154.17834626048233,
                  "_deepnote_index_column": 1220
                },
                {
                  "Date": "2021-03-23T00:00:00.000000",
                  "macdhist": -156.52672093722475,
                  "Symbols": "ZTS",
                  "Adj Close": 155.8079376220703,
                  "Close": 156.0399932861328,
                  "High": 157.25,
                  "Low": 153.99000549316406,
                  "Open": 155.67999267578125,
                  "Volume": 1962800,
                  "obv": 261106700,
                  "obv_ema13": 253264532.46914595,
                  "macd": -2.1622099741773866,
                  "rsi": 51.903224269847485,
                  "atr": 4.052996957489057,
                  "ema14": 155.29324909195844,
                  "ema26": 157.07578979134638,
                  "ema12": 154.913579817169,
                  "ema9": 154.36451096304737,
                  "_deepnote_index_column": 1221
                },
                {
                  "Date": "2021-03-24T00:00:00.000000",
                  "macdhist": -156.5325895937264,
                  "Symbols": "ZTS",
                  "Adj Close": 155.19883728027344,
                  "Close": 155.42999267578125,
                  "High": 157.25,
                  "Low": 155.27999877929688,
                  "Open": 155.3300018310547,
                  "Volume": 1739700,
                  "obv": 259367000,
                  "obv_ema13": 253700423.0070641,
                  "macd": -2.061530459405674,
                  "rsi": 50.64626035830092,
                  "atr": 3.9141305750366615,
                  "ema14": 155.30236533087998,
                  "ema26": 157.01483434262175,
                  "ema12": 154.95330388321608,
                  "ema9": 154.47105913432074,
                  "_deepnote_index_column": 1222
                },
                {
                  "Date": "2021-03-25T00:00:00.000000",
                  "macdhist": -156.37982687522336,
                  "Symbols": "ZTS",
                  "Adj Close": 152.65264892578125,
                  "Close": 152.8800048828125,
                  "High": 156.08999633789062,
                  "Low": 151.72999572753906,
                  "Open": 156.08999633789062,
                  "Volume": 1656600,
                  "obv": 257710400,
                  "obv_ema13": 253986849.93513095,
                  "macd": -2.0678731660534595,
                  "rsi": 45.667427627376625,
                  "atr": 3.9438552440576546,
                  "ema14": 155.14087463434214,
                  "ema26": 156.86169251077695,
                  "ema12": 154.7938193447235,
                  "ema9": 154.3119537091699,
                  "_deepnote_index_column": 1223
                },
                {
                  "Date": "2021-03-26T00:00:00.000000",
                  "macdhist": -156.4329505666518,
                  "Symbols": "ZTS",
                  "Adj Close": 155.9177703857422,
                  "Close": 156.14999389648438,
                  "High": 156.19000244140625,
                  "Low": 152.6300048828125,
                  "Open": 153.1300048828125,
                  "Volume": 1877200,
                  "obv": 259587600,
                  "obv_ema13": 254386903.51119304,
                  "macd": -1.9371928387504624,
                  "rsi": 52.161940511658216,
                  "atr": 3.918264731693394,
                  "ema14": 155.20814925181827,
                  "ema26": 156.83533330284018,
                  "ema12": 154.89814046408972,
                  "ema9": 154.49575772790135,
                  "_deepnote_index_column": 1224
                },
                {
                  "Date": "2021-03-29T00:00:00.000000",
                  "macdhist": -156.6113504255286,
                  "Symbols": "ZTS",
                  "Adj Close": 158.15444946289062,
                  "Close": 158.38999938964844,
                  "High": 159.1199951171875,
                  "Low": 155.50999450683594,
                  "Open": 155.75999450683594,
                  "Volume": 2044800,
                  "obv": 261632400,
                  "obv_ema13": 254904438.97467926,
                  "macd": -1.7261685314525437,
                  "rsi": 56.03849867369831,
                  "atr": 3.8977137902706054,
                  "ema14": 155.4202725943403,
                  "ema26": 156.89291352827755,
                  "ema12": 155.166744996825,
                  "ema9": 154.88518189407606,
                  "_deepnote_index_column": 1225
                },
                {
                  "Date": "2021-03-30T00:00:00.000000",
                  "macdhist": -156.6881829409189,
                  "Symbols": "ZTS",
                  "Adj Close": 156.8064422607422,
                  "Close": 157.0399932861328,
                  "High": 158.27000427246094,
                  "Low": 156.5,
                  "Open": 157.30999755859375,
                  "Volume": 1298000,
                  "obv": 260334400,
                  "obv_ema13": 255292293.33363074,
                  "macd": -1.5875199076371587,
                  "rsi": 53.23842608860149,
                  "atr": 3.763866163562461,
                  "ema14": 155.52825397379314,
                  "ema26": 156.8983609267166,
                  "ema12": 155.31084101907945,
                  "ema9": 155.10066303328173,
                  "_deepnote_index_column": 1226
                },
                {
                  "Date": "2021-03-31T00:00:00.000000",
                  "macdhist": -156.78080018550781,
                  "Symbols": "ZTS",
                  "Adj Close": 157.24578857421875,
                  "Close": 157.47999572753906,
                  "High": 158.6300048828125,
                  "Low": 156.92999267578125,
                  "Open": 157.52999877929688,
                  "Volume": 1564100,
                  "obv": 261898500,
                  "obv_ema13": 255764165.2383714,
                  "macd": -1.4422038828003565,
                  "rsi": 54.04440782768723,
                  "atr": 3.6262758997937135,
                  "ema14": 155.65837009070952,
                  "ema26": 156.9199029563767,
                  "ema12": 155.47769907357633,
                  "ema9": 155.33859630270746,
                  "_deepnote_index_column": 1227
                },
                {
                  "Date": "2021-04-01T00:00:00.000000",
                  "macdhist": -156.88630842895574,
                  "Symbols": "ZTS",
                  "Adj Close": 157.65518188476562,
                  "Close": 157.88999938964844,
                  "High": 158.80999755859375,
                  "Low": 156.25999450683594,
                  "Open": 157.7100067138672,
                  "Volume": 1386400,
                  "obv": 263284900,
                  "obv_ema13": 256301360.57848772,
                  "macd": -1.292571817554176,
                  "rsi": 54.8257554827695,
                  "atr": 3.55452437659132,
                  "ema14": 155.80714537730546,
                  "ema26": 156.9558324539053,
                  "ema12": 155.6632606363511,
                  "ema9": 155.59373661140157,
                  "_deepnote_index_column": 1228
                },
                {
                  "Date": "2021-04-05T00:00:00.000000",
                  "macdhist": -157.01050540186463,
                  "Symbols": "ZTS",
                  "Adj Close": 158.17442321777344,
                  "Close": 158.41000366210938,
                  "High": 159.3000030517578,
                  "Low": 157.69000244140625,
                  "Open": 158.55999755859375,
                  "Volume": 1212600,
                  "obv": 264497500,
                  "obv_ema13": 256886799.10859573,
                  "macd": -1.135142085392289,
                  "rsi": 55.85100743233771,
                  "atr": 3.424889458842003,
                  "ema14": 155.98066926295905,
                  "ema26": 157.00969064680172,
                  "ema12": 155.87454856140943,
                  "ema9": 155.87536331647235,
                  "_deepnote_index_column": 1229
                },
                {
                  "Date": "2021-04-06T00:00:00.000000",
                  "macdhist": -156.96991124675716,
                  "Symbols": "ZTS",
                  "Adj Close": 155.6681365966797,
                  "Close": 155.89999389648438,
                  "High": 159.1999969482422,
                  "Low": 155.41000366210938,
                  "Open": 158.8300018310547,
                  "Volume": 1802500,
                  "obv": 262695000,
                  "obv_ema13": 257301670.6008389,
                  "macd": -1.092084872283607,
                  "rsi": 49.957260267503074,
                  "atr": 3.4492297139947237,
                  "ema14": 155.97529090519407,
                  "ema26": 156.96859076716035,
                  "ema12": 155.87650589487674,
                  "ema9": 155.87782637447356,
                  "_deepnote_index_column": 1230
                },
                {
                  "Date": "2021-04-07T00:00:00.000000",
                  "macdhist": -157.04976986918425,
                  "Symbols": "ZTS",
                  "Adj Close": 157.64520263671875,
                  "Close": 157.8800048828125,
                  "High": 158.17999267578125,
                  "Low": 155.6999969482422,
                  "Open": 155.6999969482422,
                  "Volume": 1660500,
                  "obv": 264355500,
                  "obv_ema13": 257805515.55792186,
                  "macd": -0.9717256438767947,
                  "rsi": 54.07437036868407,
                  "atr": 3.3846141148976794,
                  "ema14": 156.10227183703532,
                  "ema26": 157.00234684551782,
                  "ema12": 156.03062120164103,
                  "ema9": 156.07804422530745,
                  "_deepnote_index_column": 1231
                },
                {
                  "Date": "2021-04-08T00:00:00.000000",
                  "macdhist": -157.24765280691727,
                  "Symbols": "ZTS",
                  "Adj Close": 159.76205444335938,
                  "Close": 160,
                  "High": 160.77000427246094,
                  "Low": 158.6300048828125,
                  "Open": 158.89999389648438,
                  "Volume": 3440800,
                  "obv": 267796300,
                  "obv_ema13": 258519143.01807028,
                  "macd": -0.7774130041405556,
                  "rsi": 58.053591957022384,
                  "atr": 3.351639799881063,
                  "ema14": 156.36212038123298,
                  "ema26": 157.11337103642458,
                  "ema12": 156.33595803228403,
                  "ema9": 156.47023980277672,
                  "_deepnote_index_column": 1232
                },
                {
                  "Date": "2021-04-09T00:00:00.000000",
                  "macdhist": -157.41667490123316,
                  "Symbols": "ZTS",
                  "Adj Close": 159.61227416992188,
                  "Close": 159.85000610351562,
                  "High": 160.9499969482422,
                  "Low": 158.4600067138672,
                  "Open": 160.11000061035156,
                  "Volume": 1821900,
                  "obv": 265974400,
                  "obv_ema13": 259051661.3739224,
                  "macd": -0.6084584683825369,
                  "rsi": 57.672843824648,
                  "atr": 3.2941964955139924,
                  "ema14": 156.59464609605183,
                  "ema26": 157.2147278907613,
                  "ema12": 156.60626942237877,
                  "ema9": 156.80821643285063,
                  "_deepnote_index_column": 1233
                },
                {
                  "Date": "2021-04-12T00:00:00.000000",
                  "macdhist": -157.7288409956078,
                  "Symbols": "ZTS",
                  "Adj Close": 162.268310546875,
                  "Close": 162.50999450683594,
                  "High": 163.14999389648438,
                  "Low": 158.52000427246094,
                  "Open": 160.07000732421875,
                  "Volume": 2916400,
                  "obv": 268890800,
                  "obv_ema13": 259754456.99007082,
                  "macd": -0.35044675535866077,
                  "rsi": 62.38443032274304,
                  "atr": 3.383249370747955,
                  "ema14": 156.9890026567708,
                  "ema26": 157.41084887654185,
                  "ema12": 157.0604021211832,
                  "ema9": 157.37839424024915,
                  "_deepnote_index_column": 1234
                },
                {
                  "Date": "2021-04-13T00:00:00.000000",
                  "macdhist": -158.0693686588585,
                  "Symbols": "ZTS",
                  "Adj Close": 163.2268829345703,
                  "Close": 163.47000122070312,
                  "High": 164,
                  "Low": 161.49000549316406,
                  "Open": 162.1999969482422,
                  "Volume": 2452700,
                  "obv": 271343500,
                  "obv_ema13": 260582245.77649432,
                  "macd": -0.0818137205639573,
                  "rsi": 63.94434442685632,
                  "atr": 3.3250323798204877,
                  "ema14": 157.42106922769963,
                  "ema26": 157.63526192632563,
                  "ema12": 157.55344820576167,
                  "ema9": 157.98755493829455,
                  "_deepnote_index_column": 1235
                },
                {
                  "Date": "2021-04-14T00:00:00.000000",
                  "macdhist": -158.3551508720051,
                  "Symbols": "ZTS",
                  "Adj Close": 162.83746337890625,
                  "Close": 163.0800018310547,
                  "High": 164.83999633789062,
                  "Low": 162.6300048828125,
                  "Open": 164.00999450683594,
                  "Volume": 1183100,
                  "obv": 270160400,
                  "obv_ema13": 261266399.64960188,
                  "macd": 0.14164875556545553,
                  "rsi": 62.80487999876263,
                  "atr": 3.2506963181709967,
                  "ema14": 157.79833140125663,
                  "ema26": 157.83691895983412,
                  "ema12": 157.97856771539958,
                  "ema9": 158.49679962757057,
                  "_deepnote_index_column": 1236
                },
                {
                  "Date": "2021-04-15T00:00:00.000000",
                  "macdhist": -158.75771112989153,
                  "Symbols": "ZTS",
                  "Adj Close": 165.2039337158203,
                  "Close": 165.4499969482422,
                  "High": 166.39999389648438,
                  "Low": 163.92999267578125,
                  "Open": 163.92999267578125,
                  "Volume": 2041500,
                  "obv": 272201900,
                  "obv_ema13": 262047506.81748745,
                  "macd": 0.43440822974619664,
                  "rsi": 66.68949559101361,
                  "atr": 3.2553160346549093,
                  "ema14": 158.30844243772233,
                  "ema26": 158.11888481125666,
                  "ema12": 158.55329304100286,
                  "ema9": 159.19211935963773,
                  "_deepnote_index_column": 1237
                },
                {
                  "Date": "2021-04-16T00:00:00.000000",
                  "macdhist": -159.2555547853468,
                  "Symbols": "ZTS",
                  "Adj Close": 167.38070678710938,
                  "Close": 167.6300048828125,
                  "High": 168.27000427246094,
                  "Low": 166,
                  "Open": 166.27000427246094,
                  "Volume": 2290800,
                  "obv": 274492700,
                  "obv_ema13": 262936449.18766692,
                  "macd": 0.7803531266084178,
                  "rsi": 69.81257782444882,
                  "atr": 3.2262954539591653,
                  "ema14": 158.9298799340617,
                  "ema26": 158.47114851761057,
                  "ema12": 159.251501644219,
                  "ema9": 160.0359079119552,
                  "_deepnote_index_column": 1238
                },
                {
                  "Date": "2021-04-19T00:00:00.000000",
                  "macdhist": -159.7379347703597,
                  "Symbols": "ZTS",
                  "Adj Close": 167.85000610351562,
                  "Close": 168.10000610351562,
                  "High": 168.27000427246094,
                  "Low": 166.58999633789062,
                  "Open": 167.5,
                  "Volume": 1842700,
                  "obv": 276335400,
                  "obv_ema13": 263893517.10283357,
                  "macd": 1.1043829607515647,
                  "rsi": 70.45571163127123,
                  "atr": 3.1232096193332417,
                  "ema14": 159.54122167869195,
                  "ema26": 158.8277728726441,
                  "ema12": 159.93215583339565,
                  "ema9": 160.84231773111125,
                  "_deepnote_index_column": 1239
                },
                {
                  "Date": "2021-04-20T00:00:00.000000",
                  "macdhist": -160.21729637634562,
                  "Symbols": "ZTS",
                  "Adj Close": 168.74000549316406,
                  "Close": 168.74000549316406,
                  "High": 169.6999969482422,
                  "Low": 167.5500030517578,
                  "Open": 167.9499969482422,
                  "Volume": 1984700,
                  "obv": 278320100,
                  "obv_ema13": 264923987.309774,
                  "macd": 1.414790130970914,
                  "rsi": 71.3507743257569,
                  "atr": 3.058328571143317,
                  "ema14": 160.1544739329901,
                  "ema26": 159.19489259933002,
                  "ema12": 160.60968273030093,
                  "ema9": 161.63208650731653,
                  "_deepnote_index_column": 1240
                },
                {
                  "Date": "2021-04-21T00:00:00.000000",
                  "macdhist": -160.74096151804318,
                  "Symbols": "ZTS",
                  "Adj Close": 170.14999389648438,
                  "Close": 170.14999389648438,
                  "High": 171.16000366210938,
                  "Low": 168.8800048828125,
                  "Open": 169.5800018310547,
                  "Volume": 1206900,
                  "obv": 279527000,
                  "obv_ema13": 265967059.64479014,
                  "macd": 1.7429157281901553,
                  "rsi": 73.27195323227942,
                  "atr": 3.0157732109967834,
                  "ema14": 160.82084193055638,
                  "ema26": 159.60063709181722,
                  "ema12": 161.34355282000737,
                  "ema9": 162.48387724623333,
                  "_deepnote_index_column": 1241
                },
                {
                  "Date": "2021-04-22T00:00:00.000000",
                  "macdhist": -161.15594928768647,
                  "Symbols": "ZTS",
                  "Adj Close": 169.07000732421875,
                  "Close": 169.07000732421875,
                  "High": 170.11000061035156,
                  "Low": 167.83999633789062,
                  "Open": 169.7100067138672,
                  "Volume": 1467700,
                  "obv": 278059300,
                  "obv_ema13": 266830791.0987337,
                  "macd": 1.9865409663453875,
                  "rsi": 69.43136184701983,
                  "atr": 2.968721500836581,
                  "ema14": 161.37078629013385,
                  "ema26": 159.9513545078321,
                  "ema12": 161.93789547417748,
                  "ema9": 163.14249025403186,
                  "_deepnote_index_column": 1242
                },
                {
                  "Date": "2021-04-23T00:00:00.000000",
                  "macdhist": -161.62617156581143,
                  "Symbols": "ZTS",
                  "Adj Close": 170.5399932861328,
                  "Close": 170.5399932861328,
                  "High": 171.3000030517578,
                  "Low": 168.52999877929688,
                  "Open": 169,
                  "Volume": 1057500,
                  "obv": 279116800,
                  "obv_ema13": 267708363.16310984,
                  "macd": 2.25606899143051,
                  "rsi": 71.61242454906566,
                  "atr": 2.9554736856115382,
                  "ema14": 161.98206675653375,
                  "ema26": 160.34352631443582,
                  "ema12": 162.59959530586633,
                  "ema9": 163.88224055724194,
                  "_deepnote_index_column": 1243
                }
              ]
            },
            "text/plain": "           Date    macdhist Symbols   Adj Close       Close        High  \\\n25   2016-06-21  -31.218033     AAL   28.849916   30.020000   30.389999   \n26   2016-06-22  -31.124232     AAL   28.724991   29.889999   30.330000   \n27   2016-06-23  -31.073185     AAL   29.147839   30.330000   30.490000   \n28   2016-06-24  -30.779774     AAL   25.995686   27.049999   28.500000   \n29   2016-06-27  -30.382878     AAL   24.285061   25.270000   26.850000   \n...         ...         ...     ...         ...         ...         ...   \n1239 2021-04-19 -159.737935     ZTS  167.850006  168.100006  168.270004   \n1240 2021-04-20 -160.217296     ZTS  168.740005  168.740005  169.699997   \n1241 2021-04-21 -160.740962     ZTS  170.149994  170.149994  171.160004   \n1242 2021-04-22 -161.155949     ZTS  169.070007  169.070007  170.110001   \n1243 2021-04-23 -161.626172     ZTS  170.539993  170.539993  171.300003   \n\n             Low        Open      Volume          obv     obv_ema13      macd  \\\n25     29.690001   30.290001   8922900.0  -14348500.0 -2.977929e+07 -0.240186   \n26     29.820000   30.049999   6675900.0  -21024400.0 -2.912247e+07 -0.261886   \n27     29.770000   30.250000   9139900.0  -11884500.0 -2.783386e+07 -0.267014   \n28     27.040001   28.200001  36049900.0  -47934400.0 -2.933148e+07 -0.367787   \n29     24.850000   26.850000  23170100.0  -71104500.0 -3.243429e+07 -0.507851   \n...          ...         ...         ...          ...           ...       ...   \n1239  166.589996  167.500000   1842700.0  276335400.0  2.638935e+08  1.104383   \n1240  167.550003  167.949997   1984700.0  278320100.0  2.649240e+08  1.414790   \n1241  168.880005  169.580002   1206900.0  279527000.0  2.659671e+08  1.742916   \n1242  167.839996  169.710007   1467700.0  278059300.0  2.668308e+08  1.986541   \n1243  168.529999  169.000000   1057500.0  279116800.0  2.677084e+08  2.256069   \n\n            rsi       atr       ema14       ema26       ema12        ema9  \n25    37.167829  1.014033   31.181961   31.359314   31.119128   30.977847  \n26    36.491161  0.974256   31.080003   31.274157   31.012270   30.862346  \n27    40.443282  0.954434   31.021531   31.220557   30.953544   30.806171  \n28    26.969814  1.134486   30.715359   30.988378   30.620591   30.411988  \n29    22.574570  1.215781   30.299899   30.675853   30.168002   29.875026  \n...         ...       ...         ...         ...         ...         ...  \n1239  70.455712  3.123210  159.541222  158.827773  159.932156  160.842318  \n1240  71.350774  3.058329  160.154474  159.194893  160.609683  161.632087  \n1241  73.271953  3.015773  160.820842  159.600637  161.343553  162.483877  \n1242  69.431362  2.968722  161.370786  159.951355  161.937895  163.142490  \n1243  71.612425  2.955474  161.982067  160.343526  162.599595  163.882241  \n\n[303098 rows x 18 columns]",
            "text/html": "<div>\n<style scoped>\n    .dataframe tbody tr th:only-of-type {\n        vertical-align: middle;\n    }\n\n    .dataframe tbody tr th {\n        vertical-align: top;\n    }\n\n    .dataframe thead th {\n        text-align: right;\n    }\n</style>\n<table border=\"1\" class=\"dataframe\">\n  <thead>\n    <tr style=\"text-align: right;\">\n      <th></th>\n      <th>Date</th>\n      <th>macdhist</th>\n      <th>Symbols</th>\n      <th>Adj Close</th>\n      <th>Close</th>\n      <th>High</th>\n      <th>Low</th>\n      <th>Open</th>\n      <th>Volume</th>\n      <th>obv</th>\n      <th>obv_ema13</th>\n      <th>macd</th>\n      <th>rsi</th>\n      <th>atr</th>\n      <th>ema14</th>\n      <th>ema26</th>\n      <th>ema12</th>\n      <th>ema9</th>\n    </tr>\n  </thead>\n  <tbody>\n    <tr>\n      <th>25</th>\n      <td>2016-06-21</td>\n      <td>-31.218033</td>\n      <td>AAL</td>\n      <td>28.849916</td>\n      <td>30.020000</td>\n      <td>30.389999</td>\n      <td>29.690001</td>\n      <td>30.290001</td>\n      <td>8922900.0</td>\n      <td>-14348500.0</td>\n      <td>-2.977929e+07</td>\n      <td>-0.240186</td>\n      <td>37.167829</td>\n      <td>1.014033</td>\n      <td>31.181961</td>\n      <td>31.359314</td>\n      <td>31.119128</td>\n      <td>30.977847</td>\n    </tr>\n    <tr>\n      <th>26</th>\n      <td>2016-06-22</td>\n      <td>-31.124232</td>\n      <td>AAL</td>\n      <td>28.724991</td>\n      <td>29.889999</td>\n      <td>30.330000</td>\n      <td>29.820000</td>\n      <td>30.049999</td>\n      <td>6675900.0</td>\n      <td>-21024400.0</td>\n      <td>-2.912247e+07</td>\n      <td>-0.261886</td>\n      <td>36.491161</td>\n      <td>0.974256</td>\n      <td>31.080003</td>\n      <td>31.274157</td>\n      <td>31.012270</td>\n      <td>30.862346</td>\n    </tr>\n    <tr>\n      <th>27</th>\n      <td>2016-06-23</td>\n      <td>-31.073185</td>\n      <td>AAL</td>\n      <td>29.147839</td>\n      <td>30.330000</td>\n      <td>30.490000</td>\n      <td>29.770000</td>\n      <td>30.250000</td>\n      <td>9139900.0</td>\n      <td>-11884500.0</td>\n      <td>-2.783386e+07</td>\n      <td>-0.267014</td>\n      <td>40.443282</td>\n      <td>0.954434</td>\n      <td>31.021531</td>\n      <td>31.220557</td>\n      <td>30.953544</td>\n      <td>30.806171</td>\n    </tr>\n    <tr>\n      <th>28</th>\n      <td>2016-06-24</td>\n      <td>-30.779774</td>\n      <td>AAL</td>\n      <td>25.995686</td>\n      <td>27.049999</td>\n      <td>28.500000</td>\n      <td>27.040001</td>\n      <td>28.200001</td>\n      <td>36049900.0</td>\n      <td>-47934400.0</td>\n      <td>-2.933148e+07</td>\n      <td>-0.367787</td>\n      <td>26.969814</td>\n      <td>1.134486</td>\n      <td>30.715359</td>\n      <td>30.988378</td>\n      <td>30.620591</td>\n      <td>30.411988</td>\n    </tr>\n    <tr>\n      <th>29</th>\n      <td>2016-06-27</td>\n      <td>-30.382878</td>\n      <td>AAL</td>\n      <td>24.285061</td>\n      <td>25.270000</td>\n      <td>26.850000</td>\n      <td>24.850000</td>\n      <td>26.850000</td>\n      <td>23170100.0</td>\n      <td>-71104500.0</td>\n      <td>-3.243429e+07</td>\n      <td>-0.507851</td>\n      <td>22.574570</td>\n      <td>1.215781</td>\n      <td>30.299899</td>\n      <td>30.675853</td>\n      <td>30.168002</td>\n      <td>29.875026</td>\n    </tr>\n    <tr>\n      <th>...</th>\n      <td>...</td>\n      <td>...</td>\n      <td>...</td>\n      <td>...</td>\n      <td>...</td>\n      <td>...</td>\n      <td>...</td>\n      <td>...</td>\n      <td>...</td>\n      <td>...</td>\n      <td>...</td>\n      <td>...</td>\n      <td>...</td>\n      <td>...</td>\n      <td>...</td>\n      <td>...</td>\n      <td>...</td>\n      <td>...</td>\n    </tr>\n    <tr>\n      <th>1239</th>\n      <td>2021-04-19</td>\n      <td>-159.737935</td>\n      <td>ZTS</td>\n      <td>167.850006</td>\n      <td>168.100006</td>\n      <td>168.270004</td>\n      <td>166.589996</td>\n      <td>167.500000</td>\n      <td>1842700.0</td>\n      <td>276335400.0</td>\n      <td>2.638935e+08</td>\n      <td>1.104383</td>\n      <td>70.455712</td>\n      <td>3.123210</td>\n      <td>159.541222</td>\n      <td>158.827773</td>\n      <td>159.932156</td>\n      <td>160.842318</td>\n    </tr>\n    <tr>\n      <th>1240</th>\n      <td>2021-04-20</td>\n      <td>-160.217296</td>\n      <td>ZTS</td>\n      <td>168.740005</td>\n      <td>168.740005</td>\n      <td>169.699997</td>\n      <td>167.550003</td>\n      <td>167.949997</td>\n      <td>1984700.0</td>\n      <td>278320100.0</td>\n      <td>2.649240e+08</td>\n      <td>1.414790</td>\n      <td>71.350774</td>\n      <td>3.058329</td>\n      <td>160.154474</td>\n      <td>159.194893</td>\n      <td>160.609683</td>\n      <td>161.632087</td>\n    </tr>\n    <tr>\n      <th>1241</th>\n      <td>2021-04-21</td>\n      <td>-160.740962</td>\n      <td>ZTS</td>\n      <td>170.149994</td>\n      <td>170.149994</td>\n      <td>171.160004</td>\n      <td>168.880005</td>\n      <td>169.580002</td>\n      <td>1206900.0</td>\n      <td>279527000.0</td>\n      <td>2.659671e+08</td>\n      <td>1.742916</td>\n      <td>73.271953</td>\n      <td>3.015773</td>\n      <td>160.820842</td>\n      <td>159.600637</td>\n      <td>161.343553</td>\n      <td>162.483877</td>\n    </tr>\n    <tr>\n      <th>1242</th>\n      <td>2021-04-22</td>\n      <td>-161.155949</td>\n      <td>ZTS</td>\n      <td>169.070007</td>\n      <td>169.070007</td>\n      <td>170.110001</td>\n      <td>167.839996</td>\n      <td>169.710007</td>\n      <td>1467700.0</td>\n      <td>278059300.0</td>\n      <td>2.668308e+08</td>\n      <td>1.986541</td>\n      <td>69.431362</td>\n      <td>2.968722</td>\n      <td>161.370786</td>\n      <td>159.951355</td>\n      <td>161.937895</td>\n      <td>163.142490</td>\n    </tr>\n    <tr>\n      <th>1243</th>\n      <td>2021-04-23</td>\n      <td>-161.626172</td>\n      <td>ZTS</td>\n      <td>170.539993</td>\n      <td>170.539993</td>\n      <td>171.300003</td>\n      <td>168.529999</td>\n      <td>169.000000</td>\n      <td>1057500.0</td>\n      <td>279116800.0</td>\n      <td>2.677084e+08</td>\n      <td>2.256069</td>\n      <td>71.612425</td>\n      <td>2.955474</td>\n      <td>161.982067</td>\n      <td>160.343526</td>\n      <td>162.599595</td>\n      <td>163.882241</td>\n    </tr>\n  </tbody>\n</table>\n<p>303098 rows × 18 columns</p>\n</div>"
          },
          "metadata": {}
        }
      ],
      "execution_count": null
    },
    {
      "cell_type": "code",
      "metadata": {
        "tags": [],
        "cell_id": "00009-12aaaf26-bba6-4f72-b45e-b2eae1401eb6",
        "deepnote_to_be_reexecuted": false,
        "source_hash": "c6b2e663",
        "execution_millis": 2,
        "execution_start": 1619481299505,
        "deepnote_cell_type": "code"
      },
      "source": "import pandas as pd\nimport matplotlib.pyplot as plt\nimport numpy as np\n\nfrom sklearn import linear_model\nfrom sklearn.metrics import mean_squared_error, r2_score\nfrom sklearn.model_selection import train_test_split",
      "outputs": [],
      "execution_count": null
    },
    {
      "cell_type": "code",
      "metadata": {
        "tags": [],
        "cell_id": "00010-fcbc2a1b-e2e6-4043-b063-2531eb1eb686",
        "deepnote_to_be_reexecuted": false,
        "source_hash": "cf558aad",
        "execution_millis": 1096,
        "execution_start": 1619481299510,
        "deepnote_cell_type": "code"
      },
      "source": "data_with_obv = master_df.dropna(subset=['ema14'])\ndata_with_obv = data_with_obv.loc[data_with_obv['Symbols'] == 'MMM']\n\n#indicators rsi, obv, ema, atr\nX = data_with_obv[[\"Open\",\"rsi\",\"obv\",\"ema14\",\"obv_ema13\",\"ema9\",\"ema26\",\"macd\",\"macdhist\",\"atr\"]]\nY = data_with_obv[\"Close\"]\n\n\nX_train, X_test, Y_train, Y_test = train_test_split(X, Y, test_size=0.2, random_state= 0)\nmodel = LinearRegression()\nmodel.fit(X_train, Y_train)\ny_pred = model.predict(X_test)\nresult = pd.DataFrame({'Actual Increase': Y_test - X_test['Open'], 'Predicted': y_pred - X_test['Open'], 'Open': X_test['Open']})\n\nresult['x1'] = result.index\nactual_increase = result['Actual Increase'].to_numpy()\npredicted = result['Predicted'].to_numpy()\nindex = result['x1']\n\nfor i in range(len(predicted)):\n    if(predicted[i]>actual_increase[i]):\n        plt.plot([i,i],[predicted[i],actual_increase[i]],color=\"red\")\n    if(predicted[i]<actual_increase[i]):\n        plt.plot([i,i],[predicted[i],actual_increase[i]],color=\"blue\")\n\nplt.scatter([],[],color=\"red\",label=\"Overestimate\")\nplt.scatter([],[],color=\"blue\",label=\"Underestimate\")\nplt.title(\"Actual v Predicted Closing Price for MMM\")\nplt.xlabel(\"# of MMM\")\nplt.ylabel(\"Difference\")\nplt.legend()\nplt.show()\n",
      "outputs": [
        {
          "data": {
            "text/plain": "<Figure size 432x288 with 1 Axes>",
            "image/png": "[encoded data removed]"
          },
          "metadata": {
            "needs_background": "light"
          },
          "output_type": "display_data"
        }
      ],
      "execution_count": null
    },
    {
      "cell_type": "code",
      "metadata": {
        "tags": [],
        "cell_id": "00013-529a916b-4a5c-460f-9132-5a36e16a669c",
        "deepnote_to_be_reexecuted": false,
        "source_hash": "36491abe",
        "execution_millis": 369,
        "execution_start": 1619481301619,
        "deepnote_cell_type": "code"
      },
      "source": "# line plot of MMM, ADBE, KMI stock analyzing for rsi trends over a year\n\nmmm = master_df[master_df['Symbols'] == 'MMM']['rsi'].to_numpy()\nadbe = master_df[master_df['Symbols'] == 'ADBE']['rsi'].to_numpy()\nkmi = master_df[master_df['Symbols'] == 'KMI']['rsi'].to_numpy()\n\nmmm_date = master_df[master_df['Symbols'] == 'MMM']['Date'].to_numpy()\nadbe_date = master_df[master_df['Symbols'] == 'ADBE']['Date'].to_numpy()\nkmi_date = master_df[master_df['Symbols'] == 'KMI']['Date'].to_numpy()\n\nplt.plot(mmm_date[:162], mmm[:162], label = 'mmm')\nplt.plot(adbe_date[:162], adbe[:162], label= 'adbe')\nplt.plot(kmi_date[:162], kmi[:162], label = 'kmi')\n\nplt.legend()\nplt.title(\"RSI Over Time\")\nplt.xlabel(\"Year\")\nplt.ylabel(\"RSI\")\nplt.xticks(rotation=45)\nplt.show()",
      "outputs": [
        {
          "data": {
            "text/plain": "<Figure size 432x288 with 1 Axes>",
            "image/png": "[encoded data removed]"
          },
          "metadata": {
            "needs_background": "light"
          },
          "output_type": "display_data"
        }
      ],
      "execution_count": null
    },
    {
      "cell_type": "code",
      "metadata": {
        "tags": [],
        "cell_id": "00010-9a3995d1-3931-48a8-98b3-6704f8639799",
        "deepnote_to_be_reexecuted": false,
        "source_hash": "48699cb0",
        "execution_millis": 266,
        "execution_start": 1619481302004,
        "deepnote_cell_type": "code"
      },
      "source": "# line plot of MMM, ADBE, KMI stock analyzing for obv trends over time\n\nmmm = master_df[master_df['Symbols'] == 'MMM']['obv'].to_numpy()\nadbe = master_df[master_df['Symbols'] == 'ADBE']['obv'].to_numpy()\nkmi = master_df[master_df['Symbols'] == 'KMI']['obv'].to_numpy()\n\nplt.plot(master_df[master_df['Symbols'] == 'MMM']['Date'].to_numpy(), mmm, label = 'mmm')\nplt.plot(master_df[master_df['Symbols'] == 'ADBE']['Date'].to_numpy(), adbe, label= 'adbe')\nplt.plot(master_df[master_df['Symbols'] == 'KMI']['Date'].to_numpy(), kmi, label = 'kmi')\n\nplt.legend()\nplt.title(\"OBV Over Time\")\nplt.xlabel(\"Year\")\nplt.ylabel(\"OBV\")\nplt.show()",
      "outputs": [
        {
          "data": {
            "text/plain": "<Figure size 432x288 with 1 Axes>",
            "image/png": "[encoded data removed]"
          },
          "metadata": {
            "needs_background": "light"
          },
          "output_type": "display_data"
        }
      ],
      "execution_count": null
    },
    {
      "cell_type": "code",
      "metadata": {
        "tags": [],
        "cell_id": "00011-fa9ed4a6-f19b-4e41-a974-ed18828155f0",
        "deepnote_to_be_reexecuted": false,
        "source_hash": "6b38c220",
        "execution_millis": 278,
        "execution_start": 1619481302287,
        "deepnote_cell_type": "code"
      },
      "source": "# line plot of MMM, ADBE, KMI stock analyzing for macd trends over time\n\nmmm = master_df[master_df['Symbols'] == 'MMM']['macd'].to_numpy()\nadbe = master_df[master_df['Symbols'] == 'ADBE']['macd'].to_numpy()\nkmi = master_df[master_df['Symbols'] == 'KMI']['macd'].to_numpy()\n\nplt.plot(master_df[master_df['Symbols'] == 'MMM']['Date'].to_numpy(), mmm, label = 'mmm')\nplt.plot(master_df[master_df['Symbols'] == 'ADBE']['Date'].to_numpy(), adbe, label= 'adbe')\nplt.plot(master_df[master_df['Symbols'] == 'KMI']['Date'].to_numpy(), kmi, label = 'kmi')\n\nplt.legend()\nplt.title(\"MACD Over Time\")\nplt.xlabel(\"Year\")\nplt.ylabel(\"MACD\")\nplt.show()",
      "outputs": [
        {
          "data": {
            "text/plain": "<Figure size 432x288 with 1 Axes>",
            "image/png": "[encoded data removed]"
          },
          "metadata": {
            "needs_background": "light"
          },
          "output_type": "display_data"
        }
      ],
      "execution_count": null
    },
    {
      "cell_type": "code",
      "metadata": {
        "tags": [],
        "cell_id": "00012-a97d7df5-1c71-4a11-8250-296c9aa5978b",
        "deepnote_to_be_reexecuted": false,
        "source_hash": "b71852a8",
        "execution_millis": 268,
        "execution_start": 1619481302582,
        "deepnote_cell_type": "code"
      },
      "source": "# line plot of MMM, ADBE, KMI stock analyzing for ema9 trends over time\n\nmmm = master_df[master_df['Symbols'] == 'MMM']['ema9'].to_numpy()\nadbe = master_df[master_df['Symbols'] == 'ADBE']['ema9'].to_numpy()\nkmi = master_df[master_df['Symbols'] == 'KMI']['ema9'].to_numpy()\n\nplt.plot(master_df[master_df['Symbols'] == 'MMM']['Date'].to_numpy(), mmm, label = 'mmm')\nplt.plot(master_df[master_df['Symbols'] == 'ADBE']['Date'].to_numpy(), adbe, label= 'adbe')\nplt.plot(master_df[master_df['Symbols'] == 'KMI']['Date'].to_numpy(), kmi, label = 'kmi')\n\nplt.legend()\nplt.title(\"EMA9 Over Time\")\nplt.xlabel(\"Year\")\nplt.ylabel(\"EMA9\")\nplt.show()",
      "outputs": [
        {
          "data": {
            "text/plain": "<Figure size 432x288 with 1 Axes>",
            "image/png": "[encoded data removed]"
          },
          "metadata": {
            "needs_background": "light"
          },
          "output_type": "display_data"
        }
      ],
      "execution_count": null
    },
    {
      "cell_type": "code",
      "metadata": {
        "tags": [],
        "cell_id": "00013-9b2c3efe-3dd4-42f6-82e6-1fc9fe0ca51f",
        "deepnote_to_be_reexecuted": false,
        "source_hash": "4993c817",
        "execution_millis": 249,
        "execution_start": 1619481302874,
        "deepnote_cell_type": "code"
      },
      "source": "# line plot of MMM, ADBE, KMI stock analyzing for atr trends over time\n\nmmm = master_df[master_df['Symbols'] == 'MMM']['atr'].to_numpy()\nadbe = master_df[master_df['Symbols'] == 'ADBE']['atr'].to_numpy()\nkmi = master_df[master_df['Symbols'] == 'KMI']['atr'].to_numpy()\n\nplt.plot(master_df[master_df['Symbols'] == 'MMM']['Date'].to_numpy(), mmm, label = 'mmm')\nplt.plot(master_df[master_df['Symbols'] == 'ADBE']['Date'].to_numpy(), adbe, label= 'adbe')\nplt.plot(master_df[master_df['Symbols'] == 'KMI']['Date'].to_numpy(), kmi, label = 'kmi')\n\nplt.legend()\nplt.title(\"ATR Over Time\")\nplt.xlabel(\"Year\")\nplt.ylabel(\"ATR\")\nplt.show()",
      "outputs": [
        {
          "data": {
            "text/plain": "<Figure size 432x288 with 1 Axes>",
            "image/png": "[encoded data removed]"
          },
          "metadata": {
            "needs_background": "light"
          },
          "output_type": "display_data"
        }
      ],
      "execution_count": null
    },
    {
      "cell_type": "code",
      "metadata": {
        "tags": [],
        "cell_id": "00009-5268ae25-1c53-4ec7-a7a0-212be7bacfec",
        "deepnote_to_be_reexecuted": false,
        "source_hash": "ee625d1d",
        "execution_millis": 23,
        "execution_start": 1619481303120,
        "deepnote_cell_type": "code"
      },
      "source": "#finds bollinger band values\n\ndef ema_helper9(data, period=9, column='Close'): \n    data['ema' + str(period)] = data[column].ewm(ignore_na=False, min_periods=period, com=period, adjust=True).mean()\n    return data\n\n\n#define moving average function\ndef moving_avg(x, n):\n    ma = np.cumsum(np.insert(x, 0, 0)) \n    average = cumsum[n:] - cumsum[:-n]) / float(n)\n    return average\n\ndef ma_helper20(data, period=20, column='Close'): \n    data['ma' + str(period)] = moving_avg(data[column], period)\n    return data\n\n\n#calculate moving average using previous 20 time periods\n\n\n\n\n",
      "outputs": [
        {
          "output_type": "error",
          "ename": "SyntaxError",
          "evalue": "invalid syntax (<ipython-input-19-5056803432a9>, line 11)",
          "traceback": [
            "\u001b[0;36m  File \u001b[0;32m\"<ipython-input-19-5056803432a9>\"\u001b[0;36m, line \u001b[0;32m11\u001b[0m\n\u001b[0;31m    average = cumsum[n:] - cumsum[:-n]) / float(n)\u001b[0m\n\u001b[0m                                      ^\u001b[0m\n\u001b[0;31mSyntaxError\u001b[0m\u001b[0;31m:\u001b[0m invalid syntax\n"
          ]
        }
      ],
      "execution_count": null
    },
    {
      "cell_type": "code",
      "metadata": {
        "tags": [],
        "cell_id": "00008-e6e4d623-bcc7-4703-8b50-2a2200da157c",
        "deepnote_to_be_reexecuted": true,
        "source_hash": "c6b2e663",
        "execution_millis": 1,
        "deepnote_cell_type": "code"
      },
      "source": "import pandas as pd\nimport matplotlib.pyplot as plt\nimport numpy as np\n\nfrom sklearn import linear_model\nfrom sklearn.metrics import mean_squared_error, r2_score\nfrom sklearn.model_selection import train_test_split",
      "execution_count": null,
      "outputs": []
    },
    {
      "cell_type": "code",
      "metadata": {
        "tags": [],
        "cell_id": "00008-3bee376d-cc2f-44c0-900b-f609cddbfd78",
        "deepnote_to_be_reexecuted": true,
        "source_hash": "4f585c3e",
        "execution_millis": 26482,
        "deepnote_cell_type": "code"
      },
      "source": "def simulate_model(stock):\n    data_with_obv = master_df.dropna(subset=['ema14'])\n    data_with_obv = data_with_obv.loc[data_with_obv['Symbols'] == stock]\n\n    #indicators rsi, obv, ema, atr\n    X = data_with_obv[[\"Open\",\"rsi\",\"obv\",\"ema14\",\"ema13\",\"ema9\",\"ema26\",\"macd\",\"macdhist\",\"atr\"]]\n    Y = data_with_obv[\"Close\"]\n\n    X_train, X_test, Y_train, Y_test = train_test_split(X, Y, test_size=0.2, random_state= 0)\n    model = linear_model.LinearRegression()\n    model.fit(X_train, Y_train)\n    y_pred = model.predict(X_test)\n    result = pd.DataFrame({'Actual Increase': Y_test - X_test['Open'], 'Predicted': y_pred - X_test['Open'], 'Open': X_test['Open']})\n    counter = 0\n    actual_np = result['Actual Increase'].to_numpy()\n    predicted_np = result['Predicted'].to_numpy()\n    for i in range(len(result)):\n        if(actual_np[i] > 0 and predicted_np[i] > 0):\n            counter += 1\n        if(actual_np[i] < 0 and predicted_np[i] < 0):\n            counter += 1\n    return counter / len(result)\npercentages = []\nfor stock in tickers:\n    percentages.append(simulate_model(stock))\npercentages.sort()\n\npercentage_avg = sum(percentages)/250\n\n\n#print(percentages)\n\nprint(percentage_avg)\n\n",
      "execution_count": null,
      "outputs": [
        {
          "name": "stdout",
          "text": "0.7471508379888261\n",
          "output_type": "stream"
        }
      ]
    },
    {
      "cell_type": "code",
      "metadata": {
        "tags": [],
        "cell_id": "00011-438c4c97-a049-447b-843a-a3eacb0fe503",
        "deepnote_to_be_reexecuted": true,
        "source_hash": "7f251787",
        "execution_millis": 10265,
        "deepnote_cell_type": "code"
      },
      "source": "\ndef ema_helper26(data, period=26, column='Close'): \n    data['ema' + str(period)] = data[column].ewm(ignore_na=False, min_periods=period, com=period, adjust=True).mean()\n    return data\n\ndef ema_helper12(data, period=12, column='Close'): \n    data['ema' + str(period)] = data[column].ewm(ignore_na=False, min_periods=period, com=period, adjust=True).mean()\n    return data\n\n#finds MACD\n\ndef get_macd():    \n    group_by_symbol = master_df.groupby('Symbols')\n    dfs = []\n    for symbol, data in group_by_symbol:\n        data_with_obv = ema_helper26(data = data.reset_index(drop = True))\n        dfs.append(data_with_obv)\n    master = pd.concat(dfs)\n    return master\nmaster_df = get_ema()\n\n\n#finds the exponential moving average \n\n\ndef get_ema():    \n    group_by_symbol = master_df.groupby('Symbols')\n    dfs = []\n    for symbol, data in group_by_symbol:\n        data_with_obv = ema_helper(data = data.reset_index(drop = True))\n        dfs.append(data_with_obv)\n    master = pd.concat(dfs)\n    return master\nmaster_df = get_ema()\n\n\n\n\ndef simulate_model(stock):\n    data_with_obv = master_df.dropna(subset=['ema14'])\n    data_with_obv = data_with_obv.loc[data_with_obv['Symbols'] == stock]\n\n    #indicators rsi, obv, ema, atr\n    X = data_with_obv[[\"Open\",\"rsi\",\"obv\",\"ema14\"]]\n    Y = data_with_obv[\"Close\"]\n\n    X_train, X_test, Y_train, Y_test = train_test_split(X, Y, test_size=0.2, random_state= 0)\n    model = linear_model.LinearRegression()\n    model.fit(X_train, Y_train)\n    y_pred = model.predict(X_test)\n    result = pd.DataFrame({'Actual Increase': Y_test - X_test['Open'], 'Predicted': y_pred - X_test['Open'], 'Open': X_test['Open']})\n    counter = 0\n    actual_np = result['Actual Increase'].to_numpy()\n    predicted_np = result['Predicted'].to_numpy()\n    for i in range(len(result)):\n        if(actual_np[i] > 0 and predicted_np[i] > 0):\n            counter += 1\n        if(actual_np[i] < 0 and predicted_np[i] < 0):\n            counter += 1\n    return counter / len(result)\ntotal = 0\nfor stock in tickers:\n    percentage = simulate_model(stock)\n    total += percentage\nprint(total / 250)\n",
      "execution_count": null,
      "outputs": [
        {
          "name": "stdout",
          "text": "0.7399180327868852\n",
          "output_type": "stream"
        }
      ]
    },
    {
      "cell_type": "code",
      "metadata": {
        "tags": [],
        "cell_id": "00012-bf8de056-ae31-4669-9c6b-cfc1b8e796b9",
        "deepnote_to_be_reexecuted": true,
        "source_hash": "a2214531",
        "execution_millis": 30,
        "deepnote_cell_type": "code"
      },
      "source": "import matplotlib.pyplot as plt\nimport numpy as np\n\nfrom sklearn import linear_model\nfrom sklearn.metrics import mean_squared_error, r2_score\nfrom sklearn.model_selection import train_test_split\n\ndf = pd.read_csv(\"\")\ndf.columns = ['x1','x2','x3','x4','x5','x6']\nprint(df.describe())\n\n\ndata_with_obv.columns",
      "execution_count": null,
      "outputs": [
        {
          "output_type": "error",
          "ename": "FileNotFoundError",
          "evalue": "[Errno 2] No such file or directory: ''",
          "traceback": [
            "\u001b[0;31m---------------------------------------------------------------------------\u001b[0m",
            "\u001b[0;31mFileNotFoundError\u001b[0m                         Traceback (most recent call last)",
            "\u001b[0;32m<ipython-input-27-58934fd86c87>\u001b[0m in \u001b[0;36m<module>\u001b[0;34m\u001b[0m\n\u001b[1;32m      6\u001b[0m \u001b[0;32mfrom\u001b[0m \u001b[0msklearn\u001b[0m\u001b[0;34m.\u001b[0m\u001b[0mmodel_selection\u001b[0m \u001b[0;32mimport\u001b[0m \u001b[0mtrain_test_split\u001b[0m\u001b[0;34m\u001b[0m\u001b[0;34m\u001b[0m\u001b[0m\n\u001b[1;32m      7\u001b[0m \u001b[0;34m\u001b[0m\u001b[0m\n\u001b[0;32m----> 8\u001b[0;31m \u001b[0mdf\u001b[0m \u001b[0;34m=\u001b[0m \u001b[0mpd\u001b[0m\u001b[0;34m.\u001b[0m\u001b[0mread_csv\u001b[0m\u001b[0;34m(\u001b[0m\u001b[0;34m\"\"\u001b[0m\u001b[0;34m)\u001b[0m\u001b[0;34m\u001b[0m\u001b[0;34m\u001b[0m\u001b[0m\n\u001b[0m\u001b[1;32m      9\u001b[0m \u001b[0mdf\u001b[0m\u001b[0;34m.\u001b[0m\u001b[0mcolumns\u001b[0m \u001b[0;34m=\u001b[0m \u001b[0;34m[\u001b[0m\u001b[0;34m'x1'\u001b[0m\u001b[0;34m,\u001b[0m\u001b[0;34m'x2'\u001b[0m\u001b[0;34m,\u001b[0m\u001b[0;34m'x3'\u001b[0m\u001b[0;34m,\u001b[0m\u001b[0;34m'x4'\u001b[0m\u001b[0;34m,\u001b[0m\u001b[0;34m'x5'\u001b[0m\u001b[0;34m,\u001b[0m\u001b[0;34m'x6'\u001b[0m\u001b[0;34m]\u001b[0m\u001b[0;34m\u001b[0m\u001b[0;34m\u001b[0m\u001b[0m\n\u001b[1;32m     10\u001b[0m \u001b[0mprint\u001b[0m\u001b[0;34m(\u001b[0m\u001b[0mdf\u001b[0m\u001b[0;34m.\u001b[0m\u001b[0mdescribe\u001b[0m\u001b[0;34m(\u001b[0m\u001b[0;34m)\u001b[0m\u001b[0;34m)\u001b[0m\u001b[0;34m\u001b[0m\u001b[0;34m\u001b[0m\u001b[0m\n",
            "\u001b[0;32m/shared-libs/python3.7/py/lib/python3.7/site-packages/pandas/io/parsers.py\u001b[0m in \u001b[0;36mread_csv\u001b[0;34m(filepath_or_buffer, sep, delimiter, header, names, index_col, usecols, squeeze, prefix, mangle_dupe_cols, dtype, engine, converters, true_values, false_values, skipinitialspace, skiprows, skipfooter, nrows, na_values, keep_default_na, na_filter, verbose, skip_blank_lines, parse_dates, infer_datetime_format, keep_date_col, date_parser, dayfirst, cache_dates, iterator, chunksize, compression, thousands, decimal, lineterminator, quotechar, quoting, doublequote, escapechar, comment, encoding, dialect, error_bad_lines, warn_bad_lines, delim_whitespace, low_memory, memory_map, float_precision, storage_options)\u001b[0m\n\u001b[1;32m    608\u001b[0m     \u001b[0mkwds\u001b[0m\u001b[0;34m.\u001b[0m\u001b[0mupdate\u001b[0m\u001b[0;34m(\u001b[0m\u001b[0mkwds_defaults\u001b[0m\u001b[0;34m)\u001b[0m\u001b[0;34m\u001b[0m\u001b[0;34m\u001b[0m\u001b[0m\n\u001b[1;32m    609\u001b[0m \u001b[0;34m\u001b[0m\u001b[0m\n\u001b[0;32m--> 610\u001b[0;31m     \u001b[0;32mreturn\u001b[0m \u001b[0m_read\u001b[0m\u001b[0;34m(\u001b[0m\u001b[0mfilepath_or_buffer\u001b[0m\u001b[0;34m,\u001b[0m \u001b[0mkwds\u001b[0m\u001b[0;34m)\u001b[0m\u001b[0;34m\u001b[0m\u001b[0;34m\u001b[0m\u001b[0m\n\u001b[0m\u001b[1;32m    611\u001b[0m \u001b[0;34m\u001b[0m\u001b[0m\n\u001b[1;32m    612\u001b[0m \u001b[0;34m\u001b[0m\u001b[0m\n",
            "\u001b[0;32m/shared-libs/python3.7/py/lib/python3.7/site-packages/pandas/io/parsers.py\u001b[0m in \u001b[0;36m_read\u001b[0;34m(filepath_or_buffer, kwds)\u001b[0m\n\u001b[1;32m    460\u001b[0m \u001b[0;34m\u001b[0m\u001b[0m\n\u001b[1;32m    461\u001b[0m     \u001b[0;31m# Create the parser.\u001b[0m\u001b[0;34m\u001b[0m\u001b[0;34m\u001b[0m\u001b[0;34m\u001b[0m\u001b[0m\n\u001b[0;32m--> 462\u001b[0;31m     \u001b[0mparser\u001b[0m \u001b[0;34m=\u001b[0m \u001b[0mTextFileReader\u001b[0m\u001b[0;34m(\u001b[0m\u001b[0mfilepath_or_buffer\u001b[0m\u001b[0;34m,\u001b[0m \u001b[0;34m**\u001b[0m\u001b[0mkwds\u001b[0m\u001b[0;34m)\u001b[0m\u001b[0;34m\u001b[0m\u001b[0;34m\u001b[0m\u001b[0m\n\u001b[0m\u001b[1;32m    463\u001b[0m \u001b[0;34m\u001b[0m\u001b[0m\n\u001b[1;32m    464\u001b[0m     \u001b[0;32mif\u001b[0m \u001b[0mchunksize\u001b[0m \u001b[0;32mor\u001b[0m \u001b[0miterator\u001b[0m\u001b[0;34m:\u001b[0m\u001b[0;34m\u001b[0m\u001b[0;34m\u001b[0m\u001b[0m\n",
            "\u001b[0;32m/shared-libs/python3.7/py/lib/python3.7/site-packages/pandas/io/parsers.py\u001b[0m in \u001b[0;36m__init__\u001b[0;34m(self, f, engine, **kwds)\u001b[0m\n\u001b[1;32m    817\u001b[0m             \u001b[0mself\u001b[0m\u001b[0;34m.\u001b[0m\u001b[0moptions\u001b[0m\u001b[0;34m[\u001b[0m\u001b[0;34m\"has_index_names\"\u001b[0m\u001b[0;34m]\u001b[0m \u001b[0;34m=\u001b[0m \u001b[0mkwds\u001b[0m\u001b[0;34m[\u001b[0m\u001b[0;34m\"has_index_names\"\u001b[0m\u001b[0;34m]\u001b[0m\u001b[0;34m\u001b[0m\u001b[0;34m\u001b[0m\u001b[0m\n\u001b[1;32m    818\u001b[0m \u001b[0;34m\u001b[0m\u001b[0m\n\u001b[0;32m--> 819\u001b[0;31m         \u001b[0mself\u001b[0m\u001b[0;34m.\u001b[0m\u001b[0m_engine\u001b[0m \u001b[0;34m=\u001b[0m \u001b[0mself\u001b[0m\u001b[0;34m.\u001b[0m\u001b[0m_make_engine\u001b[0m\u001b[0;34m(\u001b[0m\u001b[0mself\u001b[0m\u001b[0;34m.\u001b[0m\u001b[0mengine\u001b[0m\u001b[0;34m)\u001b[0m\u001b[0;34m\u001b[0m\u001b[0;34m\u001b[0m\u001b[0m\n\u001b[0m\u001b[1;32m    820\u001b[0m \u001b[0;34m\u001b[0m\u001b[0m\n\u001b[1;32m    821\u001b[0m     \u001b[0;32mdef\u001b[0m \u001b[0mclose\u001b[0m\u001b[0;34m(\u001b[0m\u001b[0mself\u001b[0m\u001b[0;34m)\u001b[0m\u001b[0;34m:\u001b[0m\u001b[0;34m\u001b[0m\u001b[0;34m\u001b[0m\u001b[0m\n",
            "\u001b[0;32m/shared-libs/python3.7/py/lib/python3.7/site-packages/pandas/io/parsers.py\u001b[0m in \u001b[0;36m_make_engine\u001b[0;34m(self, engine)\u001b[0m\n\u001b[1;32m   1048\u001b[0m             )\n\u001b[1;32m   1049\u001b[0m         \u001b[0;31m# error: Too many arguments for \"ParserBase\"\u001b[0m\u001b[0;34m\u001b[0m\u001b[0;34m\u001b[0m\u001b[0;34m\u001b[0m\u001b[0m\n\u001b[0;32m-> 1050\u001b[0;31m         \u001b[0;32mreturn\u001b[0m \u001b[0mmapping\u001b[0m\u001b[0;34m[\u001b[0m\u001b[0mengine\u001b[0m\u001b[0;34m]\u001b[0m\u001b[0;34m(\u001b[0m\u001b[0mself\u001b[0m\u001b[0;34m.\u001b[0m\u001b[0mf\u001b[0m\u001b[0;34m,\u001b[0m \u001b[0;34m**\u001b[0m\u001b[0mself\u001b[0m\u001b[0;34m.\u001b[0m\u001b[0moptions\u001b[0m\u001b[0;34m)\u001b[0m  \u001b[0;31m# type: ignore[call-arg]\u001b[0m\u001b[0;34m\u001b[0m\u001b[0;34m\u001b[0m\u001b[0m\n\u001b[0m\u001b[1;32m   1051\u001b[0m \u001b[0;34m\u001b[0m\u001b[0m\n\u001b[1;32m   1052\u001b[0m     \u001b[0;32mdef\u001b[0m \u001b[0m_failover_to_python\u001b[0m\u001b[0;34m(\u001b[0m\u001b[0mself\u001b[0m\u001b[0;34m)\u001b[0m\u001b[0;34m:\u001b[0m\u001b[0;34m\u001b[0m\u001b[0;34m\u001b[0m\u001b[0m\n",
            "\u001b[0;32m/shared-libs/python3.7/py/lib/python3.7/site-packages/pandas/io/parsers.py\u001b[0m in \u001b[0;36m__init__\u001b[0;34m(self, src, **kwds)\u001b[0m\n\u001b[1;32m   1865\u001b[0m \u001b[0;34m\u001b[0m\u001b[0m\n\u001b[1;32m   1866\u001b[0m         \u001b[0;31m# open handles\u001b[0m\u001b[0;34m\u001b[0m\u001b[0;34m\u001b[0m\u001b[0;34m\u001b[0m\u001b[0m\n\u001b[0;32m-> 1867\u001b[0;31m         \u001b[0mself\u001b[0m\u001b[0;34m.\u001b[0m\u001b[0m_open_handles\u001b[0m\u001b[0;34m(\u001b[0m\u001b[0msrc\u001b[0m\u001b[0;34m,\u001b[0m \u001b[0mkwds\u001b[0m\u001b[0;34m)\u001b[0m\u001b[0;34m\u001b[0m\u001b[0;34m\u001b[0m\u001b[0m\n\u001b[0m\u001b[1;32m   1868\u001b[0m         \u001b[0;32massert\u001b[0m \u001b[0mself\u001b[0m\u001b[0;34m.\u001b[0m\u001b[0mhandles\u001b[0m \u001b[0;32mis\u001b[0m \u001b[0;32mnot\u001b[0m \u001b[0;32mNone\u001b[0m\u001b[0;34m\u001b[0m\u001b[0;34m\u001b[0m\u001b[0m\n\u001b[1;32m   1869\u001b[0m         \u001b[0;32mfor\u001b[0m \u001b[0mkey\u001b[0m \u001b[0;32min\u001b[0m \u001b[0;34m(\u001b[0m\u001b[0;34m\"storage_options\"\u001b[0m\u001b[0;34m,\u001b[0m \u001b[0;34m\"encoding\"\u001b[0m\u001b[0;34m,\u001b[0m \u001b[0;34m\"memory_map\"\u001b[0m\u001b[0;34m,\u001b[0m \u001b[0;34m\"compression\"\u001b[0m\u001b[0;34m)\u001b[0m\u001b[0;34m:\u001b[0m\u001b[0;34m\u001b[0m\u001b[0;34m\u001b[0m\u001b[0m\n",
            "\u001b[0;32m/shared-libs/python3.7/py/lib/python3.7/site-packages/pandas/io/parsers.py\u001b[0m in \u001b[0;36m_open_handles\u001b[0;34m(self, src, kwds)\u001b[0m\n\u001b[1;32m   1366\u001b[0m             \u001b[0mcompression\u001b[0m\u001b[0;34m=\u001b[0m\u001b[0mkwds\u001b[0m\u001b[0;34m.\u001b[0m\u001b[0mget\u001b[0m\u001b[0;34m(\u001b[0m\u001b[0;34m\"compression\"\u001b[0m\u001b[0;34m,\u001b[0m \u001b[0;32mNone\u001b[0m\u001b[0;34m)\u001b[0m\u001b[0;34m,\u001b[0m\u001b[0;34m\u001b[0m\u001b[0;34m\u001b[0m\u001b[0m\n\u001b[1;32m   1367\u001b[0m             \u001b[0mmemory_map\u001b[0m\u001b[0;34m=\u001b[0m\u001b[0mkwds\u001b[0m\u001b[0;34m.\u001b[0m\u001b[0mget\u001b[0m\u001b[0;34m(\u001b[0m\u001b[0;34m\"memory_map\"\u001b[0m\u001b[0;34m,\u001b[0m \u001b[0;32mFalse\u001b[0m\u001b[0;34m)\u001b[0m\u001b[0;34m,\u001b[0m\u001b[0;34m\u001b[0m\u001b[0;34m\u001b[0m\u001b[0m\n\u001b[0;32m-> 1368\u001b[0;31m             \u001b[0mstorage_options\u001b[0m\u001b[0;34m=\u001b[0m\u001b[0mkwds\u001b[0m\u001b[0;34m.\u001b[0m\u001b[0mget\u001b[0m\u001b[0;34m(\u001b[0m\u001b[0;34m\"storage_options\"\u001b[0m\u001b[0;34m,\u001b[0m \u001b[0;32mNone\u001b[0m\u001b[0;34m)\u001b[0m\u001b[0;34m,\u001b[0m\u001b[0;34m\u001b[0m\u001b[0;34m\u001b[0m\u001b[0m\n\u001b[0m\u001b[1;32m   1369\u001b[0m         )\n\u001b[1;32m   1370\u001b[0m \u001b[0;34m\u001b[0m\u001b[0m\n",
            "\u001b[0;32m/shared-libs/python3.7/py/lib/python3.7/site-packages/pandas/io/common.py\u001b[0m in \u001b[0;36mget_handle\u001b[0;34m(path_or_buf, mode, encoding, compression, memory_map, is_text, errors, storage_options)\u001b[0m\n\u001b[1;32m    645\u001b[0m                 \u001b[0mencoding\u001b[0m\u001b[0;34m=\u001b[0m\u001b[0mioargs\u001b[0m\u001b[0;34m.\u001b[0m\u001b[0mencoding\u001b[0m\u001b[0;34m,\u001b[0m\u001b[0;34m\u001b[0m\u001b[0;34m\u001b[0m\u001b[0m\n\u001b[1;32m    646\u001b[0m                 \u001b[0merrors\u001b[0m\u001b[0;34m=\u001b[0m\u001b[0merrors\u001b[0m\u001b[0;34m,\u001b[0m\u001b[0;34m\u001b[0m\u001b[0;34m\u001b[0m\u001b[0m\n\u001b[0;32m--> 647\u001b[0;31m                 \u001b[0mnewline\u001b[0m\u001b[0;34m=\u001b[0m\u001b[0;34m\"\"\u001b[0m\u001b[0;34m,\u001b[0m\u001b[0;34m\u001b[0m\u001b[0;34m\u001b[0m\u001b[0m\n\u001b[0m\u001b[1;32m    648\u001b[0m             )\n\u001b[1;32m    649\u001b[0m         \u001b[0;32melse\u001b[0m\u001b[0;34m:\u001b[0m\u001b[0;34m\u001b[0m\u001b[0;34m\u001b[0m\u001b[0m\n",
            "\u001b[0;31mFileNotFoundError\u001b[0m: [Errno 2] No such file or directory: ''"
          ]
        }
      ]
    },
    {
      "cell_type": "code",
      "metadata": {
        "tags": [],
        "cell_id": "00015-45f5371d-8303-41d8-8673-6fede396a1f7",
        "deepnote_to_be_reexecuted": true,
        "source_hash": "6345553a",
        "execution_millis": 13,
        "deepnote_cell_type": "code"
      },
      "source": "X_train, X_test, Y_train, Y_test = train_test_split(X, Y, test_size=0.2, random_state= 0)\nrmsd = np.sqrt(mean_squared_error(Y_test, y_pred))      \nr2_value = r2_score(Y_test, y_pred)                     \n\nprint(\"Intercept: \\n\", model.intercept_)\nprint(\"Root Mean Square Error \\n\", rmsd)\nprint(\"R^2 Value: \\n\", r2_value)",
      "execution_count": null,
      "outputs": [
        {
          "output_type": "error",
          "ename": "NameError",
          "evalue": "name 'X' is not defined",
          "traceback": [
            "\u001b[0;31m---------------------------------------------------------------------------\u001b[0m",
            "\u001b[0;31mNameError\u001b[0m                                 Traceback (most recent call last)",
            "\u001b[0;32m<ipython-input-9-b9d80c2bb2ff>\u001b[0m in \u001b[0;36m<module>\u001b[0;34m\u001b[0m\n\u001b[0;32m----> 1\u001b[0;31m \u001b[0mX_train\u001b[0m\u001b[0;34m,\u001b[0m \u001b[0mX_test\u001b[0m\u001b[0;34m,\u001b[0m \u001b[0mY_train\u001b[0m\u001b[0;34m,\u001b[0m \u001b[0mY_test\u001b[0m \u001b[0;34m=\u001b[0m \u001b[0mtrain_test_split\u001b[0m\u001b[0;34m(\u001b[0m\u001b[0mX\u001b[0m\u001b[0;34m,\u001b[0m \u001b[0mY\u001b[0m\u001b[0;34m,\u001b[0m \u001b[0mtest_size\u001b[0m\u001b[0;34m=\u001b[0m\u001b[0;36m0.2\u001b[0m\u001b[0;34m,\u001b[0m \u001b[0mrandom_state\u001b[0m\u001b[0;34m=\u001b[0m \u001b[0;36m0\u001b[0m\u001b[0;34m)\u001b[0m\u001b[0;34m\u001b[0m\u001b[0;34m\u001b[0m\u001b[0m\n\u001b[0m\u001b[1;32m      2\u001b[0m \u001b[0mrmsd\u001b[0m \u001b[0;34m=\u001b[0m \u001b[0mnp\u001b[0m\u001b[0;34m.\u001b[0m\u001b[0msqrt\u001b[0m\u001b[0;34m(\u001b[0m\u001b[0mmean_squared_error\u001b[0m\u001b[0;34m(\u001b[0m\u001b[0mY_test\u001b[0m\u001b[0;34m,\u001b[0m \u001b[0my_pred\u001b[0m\u001b[0;34m)\u001b[0m\u001b[0;34m)\u001b[0m\u001b[0;34m\u001b[0m\u001b[0;34m\u001b[0m\u001b[0m\n\u001b[1;32m      3\u001b[0m \u001b[0mr2_value\u001b[0m \u001b[0;34m=\u001b[0m \u001b[0mr2_score\u001b[0m\u001b[0;34m(\u001b[0m\u001b[0mY_test\u001b[0m\u001b[0;34m,\u001b[0m \u001b[0my_pred\u001b[0m\u001b[0;34m)\u001b[0m\u001b[0;34m\u001b[0m\u001b[0;34m\u001b[0m\u001b[0m\n\u001b[1;32m      4\u001b[0m \u001b[0;34m\u001b[0m\u001b[0m\n\u001b[1;32m      5\u001b[0m \u001b[0mprint\u001b[0m\u001b[0;34m(\u001b[0m\u001b[0;34m\"Intercept: \\n\"\u001b[0m\u001b[0;34m,\u001b[0m \u001b[0mmodel\u001b[0m\u001b[0;34m.\u001b[0m\u001b[0mintercept_\u001b[0m\u001b[0;34m)\u001b[0m\u001b[0;34m\u001b[0m\u001b[0;34m\u001b[0m\u001b[0m\n",
            "\u001b[0;31mNameError\u001b[0m: name 'X' is not defined"
          ]
        }
      ]
    },
    {
      "cell_type": "code",
      "metadata": {
        "tags": [],
        "cell_id": "00016-9beb0ea8-d7c8-4afb-9939-63208635f999",
        "deepnote_to_be_reexecuted": true,
        "source_hash": "75a19651",
        "deepnote_cell_type": "code"
      },
      "source": "df.plot(kind='bar',figsize=(10,8))\nplt.grid(which='major', linestyle='-', linewidth='0.5', color='green')\nplt.grid(which='minor', linestyle=':', linewidth='0.5', color='black')\nplt.show()\n\n# Root Mean Squared Deviation\nrmsd = np.sqrt(mean_squared_error(Y_test, y_pred))      # Lower the rmse(rmsd) is, the better the fit\nr2_value = r2_score(Y_test, y_pred)                     # The closer towards 1, the better the fit\n\nprint(\"Y-Intercept: \\n\", model.intercept_)\nprint(\"Root Mean Square Error(rmsd) \\n\", rmsd)\nprint(\"R^2 Value: \\n\", r2_value)\n",
      "execution_count": null,
      "outputs": []
    },
    {
      "cell_type": "markdown",
      "source": "<a style='text-decoration:none;line-height:16px;display:flex;color:#5B5B62;padding:10px;justify-content:end;' href='https://deepnote.com?utm_source=created-in-deepnote-cell&projectId=f5ced862-5fbe-4aaf-aa19-de0a34eeda69' target=\"_blank\">\n<img alt='Created in deepnote.com' style='display:inline;max-height:16px;margin:0px;margin-right:7.5px;' src='data:image/svg+xml;base64,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' > </img>\nCreated in <span style='font-weight:600;margin-left:4px;'>Deepnote</span></a>",
      "metadata": {
        "tags": [],
        "created_in_deepnote_cell": true,
        "deepnote_cell_type": "markdown"
      }
    }
  ],
  "nbformat": 4,
  "nbformat_minor": 2,
  "metadata": {
    "orig_nbformat": 2,
    "deepnote": {
      "is_reactive": false
    },
    "deepnote_notebook_id": "987c7f16-c55c-4e41-9a03-3be4c9081705",
    "deepnote_execution_queue": []
  }
}